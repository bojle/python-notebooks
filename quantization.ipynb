{
 "cells": [
  {
   "cell_type": "code",
   "execution_count": 1,
   "id": "e067a0cc-ec06-480f-b394-5336e5adf7d9",
   "metadata": {},
   "outputs": [],
   "source": [
    "## Quantization\n",
    "import numpy as np"
   ]
  },
  {
   "cell_type": "code",
   "execution_count": 45,
   "id": "c463635a-7765-44af-be5c-321019b6d66f",
   "metadata": {},
   "outputs": [],
   "source": [
    "xr = [0,6433]\n",
    "xqr = [0,255]\n",
    "\n",
    "def quantize(array_like, xr, xqr):\n",
    "    a,b = xr\n",
    "    aq,bq = xqr\n",
    "    s = (b-a)/(bq-aq)\n",
    "    z = round( (b*aq - a*bq) / (b-a) )\n",
    "    print(f\"s,z {s},{z}\")\n",
    "    for i in range(len(array_like)):\n",
    "        array_like[i] = round((array_like[i]/s) + z)\n",
    "    return array_like"
   ]
  },
  {
   "cell_type": "code",
   "execution_count": 46,
   "id": "bec8a963-e48c-4c77-9066-71afcf513acc",
   "metadata": {},
   "outputs": [
    {
     "name": "stdout",
     "output_type": "stream",
     "text": [
      "s,z 25.227450980392156,0\n",
      "13\n",
      "25\n",
      "26\n",
      "25\n",
      "25\n",
      "25\n",
      "25\n",
      "26\n",
      "25\n",
      "25\n",
      "25\n",
      "26\n",
      "25\n",
      "25\n",
      "25\n",
      "26\n",
      "25\n",
      "25\n",
      "25\n",
      "25\n"
     ]
    }
   ],
   "source": [
    "arr = quantize([i for i in range(10000)], xr, xqr)\n",
    "for i in range(20):\n",
    "    print(arr.count(i))"
   ]
  },
  {
   "cell_type": "code",
   "execution_count": 42,
   "id": "d2b8d633-5f8d-4542-86da-b1d66339d8ee",
   "metadata": {},
   "outputs": [
    {
     "data": {
      "text/plain": [
       "[272]"
      ]
     },
     "execution_count": 42,
     "metadata": {},
     "output_type": "execute_result"
    }
   ],
   "source": [
    "quantize([70000], xr, xqr)"
   ]
  },
  {
   "cell_type": "code",
   "execution_count": null,
   "id": "0b234ec8-2adc-4656-87d7-c70cb31802f1",
   "metadata": {},
   "outputs": [],
   "source": []
  }
 ],
 "metadata": {
  "kernelspec": {
   "display_name": "Python 3 (ipykernel)",
   "language": "python",
   "name": "python3"
  },
  "language_info": {
   "codemirror_mode": {
    "name": "ipython",
    "version": 3
   },
   "file_extension": ".py",
   "mimetype": "text/x-python",
   "name": "python",
   "nbconvert_exporter": "python",
   "pygments_lexer": "ipython3",
   "version": "3.11.3"
  }
 },
 "nbformat": 4,
 "nbformat_minor": 5
}
