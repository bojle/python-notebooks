{
 "cells": [
  {
   "cell_type": "code",
   "execution_count": 1,
   "id": "e067a0cc-ec06-480f-b394-5336e5adf7d9",
   "metadata": {},
   "outputs": [
    {
     "name": "stderr",
     "output_type": "stream",
     "text": [
      "2023-10-19 11:50:55.137545: I tensorflow/core/platform/cpu_feature_guard.cc:182] This TensorFlow binary is optimized to use available CPU instructions in performance-critical operations.\n",
      "To enable the following instructions: FMA, in other operations, rebuild TensorFlow with the appropriate compiler flags.\n"
     ]
    }
   ],
   "source": [
    "## Quantization\n",
    "import numpy as np\n",
    "from keras.utils import load_img, img_to_array\n",
    "from keras.applications.vgg16 import preprocess_input\n",
    "from keras.applications.vgg16 import decode_predictions"
   ]
  },
  {
   "cell_type": "code",
   "execution_count": 3,
   "id": "c463635a-7765-44af-be5c-321019b6d66f",
   "metadata": {},
   "outputs": [],
   "source": [
    "xr = [0,6433]\n",
    "xqr = [0,255]\n",
    "\n",
    "def quantize(array_like, xr, xqr):\n",
    "    a,b = xr\n",
    "    aq,bq = xqr\n",
    "    s = (b-a)/(bq-aq)\n",
    "    z = round( (b*aq - a*bq) / (b-a) )\n",
    "    print(f\"s,z {s},{z}\")\n",
    "    for i in range(len(array_like)):\n",
    "        array_like[i] = round((array_like[i]/s) + z)\n",
    "    return array_like"
   ]
  },
  {
   "cell_type": "code",
   "execution_count": null,
   "id": "bec8a963-e48c-4c77-9066-71afcf513acc",
   "metadata": {},
   "outputs": [],
   "source": [
    "arr = quantize([i for i in range(10000)], xr, xqr)\n",
    "for i in range(20):\n",
    "    print(arr.count(i))"
   ]
  },
  {
   "cell_type": "code",
   "execution_count": null,
   "id": "d2b8d633-5f8d-4542-86da-b1d66339d8ee",
   "metadata": {},
   "outputs": [],
   "source": [
    "quantize([70000], xr, xqr)"
   ]
  },
  {
   "cell_type": "code",
   "execution_count": 2,
   "id": "e949446b-e781-4db4-b093-2f71ab3cd7c3",
   "metadata": {},
   "outputs": [],
   "source": []
  },
  {
   "cell_type": "code",
   "execution_count": 5,
   "id": "dad1eb29-037a-48b5-8809-fa9c7a76a0dd",
   "metadata": {},
   "outputs": [
    {
     "data": {
      "text/plain": [
       "array([[[[-109,  -66,  -59],\n",
       "         [-105,  -66,  -58],\n",
       "         [-108,  -69,  -62],\n",
       "         ...,\n",
       "         [ -55,  -33,   -9],\n",
       "         [ -46,  -28,   -4],\n",
       "         [ -63,  -47,  -22]],\n",
       "\n",
       "        [[-108,  -66,  -59],\n",
       "         [-102,  -66,  -58],\n",
       "         [-107,  -68,  -61],\n",
       "         ...,\n",
       "         [ -59,  -33,  -10],\n",
       "         [ -53,  -31,   -7],\n",
       "         [ -69,  -51,  -27]],\n",
       "\n",
       "        [[-106,  -67,  -59],\n",
       "         [-101,  -65,  -57],\n",
       "         [-102,  -66,  -58],\n",
       "         ...,\n",
       "         [ -54,  -29,   -8],\n",
       "         [ -45,  -23,   -3],\n",
       "         [ -62,  -44,  -22]],\n",
       "\n",
       "        ...,\n",
       "\n",
       "        [[ -47,  -78,  -84],\n",
       "         [ -49,  -76,  -83],\n",
       "         [ -52,  -71,  -80],\n",
       "         ...,\n",
       "         [ -79,  -80,  -87],\n",
       "         [ -74,  -75,  -80],\n",
       "         [ -73,  -79,  -83]],\n",
       "\n",
       "        [[ -51,  -82,  -88],\n",
       "         [ -51,  -79,  -84],\n",
       "         [ -54,  -77,  -83],\n",
       "         ...,\n",
       "         [ -68,  -77,  -83],\n",
       "         [ -76,  -79,  -86],\n",
       "         [ -74,  -78,  -82]],\n",
       "\n",
       "        [[ -58,  -80,  -86],\n",
       "         [ -52,  -75,  -81],\n",
       "         [ -52,  -78,  -82],\n",
       "         ...,\n",
       "         [ -69,  -81,  -88],\n",
       "         [ -78,  -81,  -88],\n",
       "         [ -79,  -80,  -87]]]], dtype=int8)"
      ]
     },
     "execution_count": 5,
     "metadata": {},
     "output_type": "execute_result"
    }
   ],
   "source": [
    "def quantize_f32i8(array):\n",
    "    s = 255 / (np.max(array) - np.min(array))\n",
    "    f = lambda v: np.clip(np.round(s*v), -128, 127)\n",
    "    quantized_array = f(array)\n",
    "    return quantized_array.astype(np.int8)\n",
    "image_array = preprocess('images/mug.jpg')\n",
    "quantize_f32i8(image_array)"
   ]
  },
  {
   "cell_type": "code",
   "execution_count": 7,
   "id": "2a085a89-03b4-49af-8073-bc24e6408c02",
   "metadata": {},
   "outputs": [],
   "source": [
    "array = np.array([-101.939,-61.779,-55.68,-97.939,-61.779,-54.68,-100.939,-64.779,-57.68,-51.939003,-30.779,-8.68,-42.939003,-25.779,-3.6800003,-58.939003,-43.779,-20.68])\n"
   ]
  },
  {
   "cell_type": "code",
   "execution_count": 8,
   "id": "529607b9-848b-4465-ae04-1d52d06ae3af",
   "metadata": {},
   "outputs": [
    {
     "data": {
      "text/plain": [
       "array([-128, -128, -128, -128, -128, -128, -128, -128, -128, -128,  -80,\n",
       "        -23, -111,  -67,  -10, -128, -114,  -54], dtype=int8)"
      ]
     },
     "execution_count": 8,
     "metadata": {},
     "output_type": "execute_result"
    }
   ],
   "source": [
    "quantize_f32i8(array)"
   ]
  },
  {
   "cell_type": "code",
   "execution_count": null,
   "id": "76c7bbd4-3697-4bfa-9aac-6a02bd2f05f3",
   "metadata": {},
   "outputs": [],
   "source": []
  }
 ],
 "metadata": {
  "kernelspec": {
   "display_name": "Python 3 (ipykernel)",
   "language": "python",
   "name": "python3"
  },
  "language_info": {
   "codemirror_mode": {
    "name": "ipython",
    "version": 3
   },
   "file_extension": ".py",
   "mimetype": "text/x-python",
   "name": "python",
   "nbconvert_exporter": "python",
   "pygments_lexer": "ipython3",
   "version": "3.11.5"
  }
 },
 "nbformat": 4,
 "nbformat_minor": 5
}
