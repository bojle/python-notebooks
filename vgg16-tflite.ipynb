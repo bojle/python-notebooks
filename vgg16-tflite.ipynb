{
 "cells": [
  {
   "cell_type": "code",
   "execution_count": null,
   "id": "083f8f90-66a3-4758-ab40-27a1688cce3a",
   "metadata": {},
   "outputs": [],
   "source": [
    "# VGG16 in tensorflow lite"
   ]
  },
  {
   "cell_type": "code",
   "execution_count": 13,
   "id": "a389b86f-3613-4c7d-b8e9-34d512ffc0d1",
   "metadata": {},
   "outputs": [],
   "source": [
    "import tensorflow as tf\n",
    "import timeit\n",
    "import sys\n",
    "import psutil\n",
    "import time\n",
    "import numpy as np\n",
    "\n",
    "from keras.applications.vgg16 import VGG16\n",
    "from keras.utils import load_img, img_to_array\n",
    "from keras.applications.vgg16 import preprocess_input\n",
    "from keras.applications.vgg16 import decode_predictions"
   ]
  },
  {
   "cell_type": "code",
   "execution_count": 14,
   "id": "4d97c9ee-df94-4939-aacd-daa3656528b3",
   "metadata": {},
   "outputs": [],
   "source": [
    "number_of_samples = 1\n",
    "\n",
    "# returns an ndarray\n",
    "def preprocess(image):\n",
    "    image = load_img(image, target_size=(224, 224))\n",
    "    image = img_to_array(image)\n",
    "    image = image.reshape((1, image.shape[0], image.shape[1], image.shape[2]))\n",
    "    image = preprocess_input(image)\n",
    "    return image\n",
    "\n",
    "# yhat is np.array((1,1000), dtype=\"float32\")\n",
    "def postprocess(yhat, outputname):\n",
    "    yhat = yhat[outputname]\n",
    "    # convert the probabilities to class labels\n",
    "    label = decode_predictions(yhat, 3)\n",
    "    for i in range(3):\n",
    "        print(label[0][i])\n",
    "\n",
    "# returns key1 in {key1: value1, key2: value2 ...}\n",
    "def get_first_key(dictionary):\n",
    "    for key in dictionary:\n",
    "        return key\n",
    "    return None\n",
    "\n",
    "# returns a tuple (runner, inputname, outputname)\n",
    "def get_runner_and_io_names(interpreter):\n",
    "    # signature list is of the form {key: {inputs: value, outputs: values}}\n",
    "    signature_dict = interpreter.get_signature_list()\n",
    "    first_key = get_first_key(signature_dict)\n",
    "    runner = interpreter.get_signature_runner(first_key)\n",
    "    io_dict = signature_dict[first_key]\n",
    "    inputname = io_dict['inputs'][0]\n",
    "    outputname = io_dict['outputs'][0]\n",
    "    return (runner, inputname, outputname)\n",
    "\n",
    "# tflite based forward inference\n",
    "def forward(image_array, runner, inputname):\n",
    "    output = runner(input_1=image_array)\n",
    "    return output"
   ]
  },
  {
   "cell_type": "code",
   "execution_count": null,
   "id": "ab8b4b15-f2e1-4db3-925c-b6ab5260e975",
   "metadata": {},
   "outputs": [],
   "source": [
    "tf.debugging.set_log_device_placement(True)\n",
    "interpreter = tf.lite.Interpreter(model_path=\"vgg16.tflite\")\n",
    "interpreter.allocate_tensors()"
   ]
  },
  {
   "cell_type": "code",
   "execution_count": null,
   "id": "6f3f169b-b7fb-46b1-863b-eb937e0ac8c8",
   "metadata": {},
   "outputs": [],
   "source": [
    "start_time = time.time()\n",
    "\n",
    "interpreter = tf.lite.Interpreter(model_path=\"vgg16.tflite\")\n",
    "mem_occupied_bfr_alloc = psutil.Process().memory_info().rss / (1024 * 1024)\n",
    "allocation_time = timeit.timeit(lambda: interpreter.allocate_tensors(), number=1)\n",
    "mem_occupied_aft_alloc = psutil.Process().memory_info().rss / (1024 * 1024)\n",
    "runner, inputname, outputname = get_runner_and_io_names(interpreter)\n",
    "preprocess_time = timeit.timeit(lambda: preprocess('images/mug.jpg'), number=number_of_samples)\n",
    "\n",
    "image_array = preprocess('images/mug.jpg')\n",
    "inference_time = timeit.timeit(lambda: forward(image_array, runner, inputname), number=number_of_samples)\n",
    "output = forward(image_array, runner, inputname)\n",
    "post_time = timeit.timeit(lambda: postprocess(output, outputname), number=number_of_samples)\n",
    "postprocess(output, outputname)\n",
    "resident_mem_occupied = psutil.Process().memory_info().rss / (1024 * 1024)\n",
    "\n",
    "end_time = time.time()\n",
    "\n",
    "print(f\"Number of samples: {number_of_samples}\")\n",
    "print(f\"Run time: {end_time - start_time}s\")\n",
    "print()\n",
    "print(f\"== Time ==\")\n",
    "print(f\"allocate_tensors: {allocation_time}s\")\n",
    "print(f\"preprocess: {preprocess_time/number_of_samples}s\")\n",
    "print(f\"inference: {inference_time/number_of_samples}s\")\n",
    "print(f\"postprocess: {post_time/number_of_samples}s\")\n",
    "print()\n",
    "print(f\"== Memory ==\")\n",
    "print(f\"total memory occupied: {resident_mem_occupied} MB\")\n",
    "print(f\"memory occupied before alloc: {mem_occupied_bfr_alloc} MB\")\n",
    "print(f\"memory occupied after alloc: {mem_occupied_aft_alloc} MB\")\n",
    "print(f\"memory occupied by model: {mem_occupied_aft_alloc - mem_occupied_bfr_alloc} MB\")"
   ]
  },
  {
   "cell_type": "code",
   "execution_count": null,
   "id": "f4184be3-9db2-4ee9-98f0-b621506abf65",
   "metadata": {},
   "outputs": [],
   "source": [
    "runner, inputname, outputname = get_runner_and_io_names(interpreter)\n",
    "image_array = preprocess('images/mug.jpg')\n",
    "output = forward(image_array, runner, inputname)\n",
    "postprocess(output, outputname)"
   ]
  }
 ],
 "metadata": {
  "kernelspec": {
   "display_name": "Python 3 (ipykernel)",
   "language": "python",
   "name": "python3"
  },
  "language_info": {
   "codemirror_mode": {
    "name": "ipython",
    "version": 3
   },
   "file_extension": ".py",
   "mimetype": "text/x-python",
   "name": "python",
   "nbconvert_exporter": "python",
   "pygments_lexer": "ipython3",
   "version": "3.11.5"
  }
 },
 "nbformat": 4,
 "nbformat_minor": 5
}
