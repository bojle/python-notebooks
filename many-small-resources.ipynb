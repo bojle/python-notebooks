{
 "cells": [
  {
   "cell_type": "code",
   "execution_count": 75,
   "id": "0c3a2873-1c48-4056-83a8-a40f5196e67e",
   "metadata": {},
   "outputs": [],
   "source": [
    "from math import ceil\n",
    "\n",
    "# In the context of 9x1x32 (just one)\n",
    "def calculate_stalls(I, K, KN, P, S, SA_CONF):\n",
    "    assert S > 0, f\"Stride mustn't be less than or equal to 0\"\n",
    "    BRAM_UNIT_SIZE = 512 #bytes\n",
    "    DRAM_WRITE_PENALTY = 1 #cycles\n",
    "    \n",
    "    IS = (BRAM_UNIT_SIZE - (I[0] + I[1] + 3))\n",
    "    assert IS > 0, f\"Initial Surplus expected to be greater than 0\"\n",
    "    O = (((I[0] - K[0] + 2*P)/S)+1, ((I[1] - K[1] + 2*P)/S)+1)\n",
    "    \n",
    "    RQ = I[0] * I[1]\n",
    "    WQ = O[0] * O[1]\n",
    "    \n",
    "    TR = RQ/32\n",
    "    TW = WQ/32\n",
    "    \n",
    "    SM = ceil(IS/DRAM_WRITE_PENALTY)\n",
    "    TS = ceil(TW/SM) if IS < RQ else 0 \n",
    "    SP = IS\n",
    "    TSP = TS * SP * (KN/SA_CONF[1])\n",
    "    \n",
    "    print(O)\n",
    "    print(f\"Total Reads Requests: {TR}\")\n",
    "    print(f\"Total Write Requests: {TW}\")\n",
    "    print(f\"Surplus Moment: every {SM} writes\")\n",
    "    print(f\"Initial Surplus: {IS}\")\n",
    "    print(f\"Total Stall: {TS}\")\n",
    "    print(f\"Total Stall penalty: {(TSP/10**8)*1000}ms\")\n",
    "    return TSP"
   ]
  },
  {
   "cell_type": "code",
   "execution_count": null,
   "id": "3db908b1-ab68-48d9-ac0b-4b9050ddea9c",
   "metadata": {},
   "outputs": [],
   "source": [
    "I = (224,224)\n",
    "K = (3,3)\n",
    "KN = 64\n",
    "P = 1\n",
    "S = 1\n",
    "dims = [(224,224,64), (224,224,64), (112,112,128), (112,112,128), (56,56,256), (56,56,256), (56,56,256), (28,28,512), (28,28,512), (28,28,512), (14,14,512), (14,14,512), (14,14,512)]\n",
    "tsp_sum = 0\n",
    "for i in dims:\n",
    "    tsp_sum = tsp_sum + calculate_stalls((i[0],i[1]), K, i[2], P, S, (9,1))\n",
    "    print()\n",
    "print((tsp_sum/10**8)*1000)"
   ]
  },
  {
   "cell_type": "code",
   "execution_count": 23,
   "id": "e8bf8bc5-9446-451c-95b2-d9f3abb904ff",
   "metadata": {},
   "outputs": [],
   "source": [
    "# Pipelined conv/sa\n",
    "\n",
    "def sa_total_size(sa_confs):\n",
    "    return sum(i[1] * i[2] for i in sa_confs)\n",
    "\n",
    "def sa_total_brams(dims, sa_confs):\n",
    "    print(\"BRAMS\")\n",
    "    sum = 0\n",
    "    # output brams\n",
    "    for i in range(len(sa_confs)):\n",
    "        d = dims[i]\n",
    "        sc = sa_confs[i]\n",
    "        brams = ((d[4] * d[5]) * sc[1])/512\n",
    "        sum = sum + brams\n",
    "        print(f\"{sc}: {brams} output brams\")\n",
    "    # Input brams\n",
    "    ibrams = 0\n",
    "    for i in sa_confs:\n",
    "        ibrams = ibrams + i[2]\n",
    "    ibrams = ibrams * 9\n",
    "    print(f\"Input brams: {ibrams}\")\n",
    "    sum = sum + ibrams\n",
    "    print(f\"Total brams: {sum} ({1056-sum} left)\")\n",
    "    return sum\n",
    "\n",
    "def sa_time(dimi, sai):\n",
    "    return ((dimi[0] * dimi[1]) * (dimi[2]/sai[1]) * ((dimi[3]/sai[2])))/10**5\n",
    "\n",
    "def check_pipeline(sa_confs):\n",
    "    for i in range(len(sa_confs)-1):\n",
    "        if sa_confs[i][1] != sa_confs[i+1][2]:\n",
    "            return False\n",
    "    return True\n",
    "        \n",
    "def sa_total_time(dims, sa_confs):\n",
    "    print(\"TIME\")\n",
    "    if not check_pipeline(sa_confs):\n",
    "        print(\"Not pipelineable\") \n",
    "    sum = 0\n",
    "    for i in range(len(dims)):\n",
    "        t = sa_time(dims[i], sa_confs[i % len(sa_confs)])\n",
    "        sum = sum + t\n",
    "        print(f\"{dims[i]} on {sa_confs[i % len(sa_confs)]}: {t}ms\")\n",
    "    print(f\"Time: {sum}\")\n",
    "\n",
    "def summary(dims, sa_confs):\n",
    "    print(f\"Total size SA: 9x{sa_total_size(sa_confs)}\")\n",
    "    sa_total_time(dims,sa_confs)\n",
    "    sa_total_brams(dims,sa_confs)\n"
   ]
  },
  {
   "cell_type": "code",
   "execution_count": 38,
   "id": "56043a05-cd56-4bd8-867a-3c9c25acfb3f",
   "metadata": {},
   "outputs": [
    {
     "name": "stdout",
     "output_type": "stream",
     "text": [
      "Total size SA: 9x32\n",
      "TIME\n",
      "(32, 32, 64, 3, 32, 32) on (9, 1, 32): 0.06144ms\n",
      "(32, 32, 64, 3, 32, 32) on (9, 1, 32): 0.06144ms\n",
      "(32, 32, 64, 3, 32, 32) on (9, 1, 32): 0.06144ms\n",
      "(32, 32, 64, 3, 32, 32) on (9, 1, 32): 0.06144ms\n",
      "(32, 32, 64, 3, 32, 32) on (9, 1, 32): 0.06144ms\n",
      "(32, 32, 64, 3, 32, 32) on (9, 1, 32): 0.06144ms\n",
      "(32, 32, 64, 3, 32, 32) on (9, 1, 32): 0.06144ms\n",
      "(32, 32, 64, 3, 32, 32) on (9, 1, 32): 0.06144ms\n",
      "(32, 32, 64, 3, 32, 32) on (9, 1, 32): 0.06144ms\n",
      "(32, 32, 64, 3, 32, 32) on (9, 1, 32): 0.06144ms\n",
      "(32, 32, 64, 3, 32, 32) on (9, 1, 32): 0.06144ms\n",
      "(32, 32, 64, 3, 32, 32) on (9, 1, 32): 0.06144ms\n",
      "(32, 32, 64, 3, 32, 32) on (9, 1, 32): 0.06144ms\n",
      "Time: 0.7987200000000002\n",
      "BRAMS\n",
      "(9, 1, 32): 2.0 output brams\n",
      "Input brams: 288\n",
      "Total brams: 290.0 (766.0 left)\n"
     ]
    }
   ],
   "source": [
    "#sa_confs = [(9,1,3),(9,8,4),(9,4,6),(9,2,4)]\n",
    "#sa_confs = [(9,2,3),(9,8,2)]\n",
    "#sa_confs = [(9,1,8),(9,2,8),(9,2,8),(9,4,4),(9,1,8)]\n",
    "#sa_confs = [(9,4,16)]\n",
    "sa_confs = [(9,1,32)]\n",
    "# dims (ih,iw,kn,ic)\n",
    "#dims = [(224,224,64,3), (224,224,64,64), (112,112,128,64), (112,112,128,128), (56,56,256,128), (56,56,256,256), (56,56,256,256), (28,28,512,256), (28,28,512,512), (28,28,512,512), (14,14,512,512), (14,14,512,512), (14,14,512,512)]\n",
    "dims = [(224,224,64,3,224,224), (224,224,64,64,112,112), (112,112,128,64,112,112), (112,112,128,128,56,56), (56,56,256,128,56,56), (56,56,256,256,56,56), (56,56,256,256,28,28), (28,28,512,256,28,28), (28,28,512,512,28,28), (28,28,512,512,14,14), (14,14,512,512,14,14), (14,14,512,512,14,14), (14,14,512,512,14,14)]\n",
    "dims = [(32,32,64,3,32,32)]\n",
    "summary(ll, sa_confs)"
   ]
  },
  {
   "cell_type": "code",
   "execution_count": 36,
   "id": "b34c3704-f1ca-4639-919d-4c654b50f8aa",
   "metadata": {},
   "outputs": [],
   "source": [
    "ll = []\n",
    "for i in range(13):\n",
    "    ll.append(dims[0])"
   ]
  },
  {
   "cell_type": "code",
   "execution_count": 1,
   "id": "4921d9a9-8914-47b2-8078-d5d22650d4ba",
   "metadata": {},
   "outputs": [
    {
     "name": "stdout",
     "output_type": "stream",
     "text": [
      "{'type': 'conv', 'pad': 1, 'stride': 1, 'kernel': 3}\n",
      "{'type': 'conv', 'pad': 1, 'stride': 1, 'kernel': 3}\n",
      "{'type': 'conv', 'pad': 1, 'stride': 1, 'kernel': 3}\n",
      "{'type': 'conv', 'pad': 1, 'stride': 1, 'kernel': 3}\n",
      "{'type': 'conv', 'pad': 1, 'stride': 1, 'kernel': 3}\n",
      "{'type': 'conv', 'pad': 1, 'stride': 1, 'kernel': 3}\n",
      "{'type': 'conv', 'pad': 1, 'stride': 1, 'kernel': 3}\n",
      "{'type': 'conv', 'pad': 1, 'stride': 1, 'kernel': 3}\n",
      "{'type': 'conv', 'pad': 1, 'stride': 1, 'kernel': 3}\n",
      "{'type': 'conv', 'pad': 1, 'stride': 1, 'kernel': 3}\n",
      "{'type': 'conv', 'pad': 1, 'stride': 1, 'kernel': 3}\n",
      "{'type': 'conv', 'pad': 1, 'stride': 1, 'kernel': 3}\n",
      "{'type': 'conv', 'pad': 1, 'stride': 1, 'kernel': 3}\n",
      "{'type': 'conv', 'pad': 1, 'stride': 1, 'kernel': 3}\n"
     ]
    }
   ],
   "source": [
    "net_conf = [{\"type\":\"conv\", \"pad\": 1, \"stride\": 1, \"kernel\": 3},\n",
    "            {\"type\":\"conv\", \"pad\": 1, \"stride\": 1, \"kernel\": 3},\n",
    "            {\"type\":\"conv\", \"pad\": 1, \"stride\": 1, \"kernel\": 3},\n",
    "            {\"type\":\"conv\", \"pad\": 1, \"stride\": 1, \"kernel\": 3},\n",
    "            {\"type\":\"conv\", \"pad\": 1, \"stride\": 1, \"kernel\": 3},\n",
    "            {\"type\":\"conv\", \"pad\": 1, \"stride\": 1, \"kernel\": 3},\n",
    "            {\"type\":\"conv\", \"pad\": 1, \"stride\": 1, \"kernel\": 3},\n",
    "            {\"type\":\"conv\", \"pad\": 1, \"stride\": 1, \"kernel\": 3},\n",
    "            {\"type\":\"conv\", \"pad\": 1, \"stride\": 1, \"kernel\": 3},\n",
    "            {\"type\":\"conv\", \"pad\": 1, \"stride\": 1, \"kernel\": 3},\n",
    "            {\"type\":\"conv\", \"pad\": 1, \"stride\": 1, \"kernel\": 3},\n",
    "            {\"type\":\"conv\", \"pad\": 1, \"stride\": 1, \"kernel\": 3},\n",
    "            {\"type\":\"conv\", \"pad\": 1, \"stride\": 1, \"kernel\": 3},\n",
    "            {\"type\":\"conv\", \"pad\": 1, \"stride\": 1, \"kernel\": 3}]\n",
    "            \n",
    "def input_size_propagator(net_conf):\n",
    "    for i in net_conf:\n",
    "        print(i)\n",
    "input_size_propagator(net_conf)\n",
    "    "
   ]
  },
  {
   "cell_type": "code",
   "execution_count": null,
   "id": "ef2f36cf-0ec1-456b-a9e6-b64051df77b1",
   "metadata": {},
   "outputs": [],
   "source": []
  }
 ],
 "metadata": {
  "kernelspec": {
   "display_name": "Python 3 (ipykernel)",
   "language": "python",
   "name": "python3"
  },
  "language_info": {
   "codemirror_mode": {
    "name": "ipython",
    "version": 3
   },
   "file_extension": ".py",
   "mimetype": "text/x-python",
   "name": "python",
   "nbconvert_exporter": "python",
   "pygments_lexer": "ipython3",
   "version": "3.11.6"
  }
 },
 "nbformat": 4,
 "nbformat_minor": 5
}
