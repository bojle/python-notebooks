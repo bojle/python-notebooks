{
 "cells": [
  {
   "cell_type": "code",
   "execution_count": null,
   "id": "80286de6-1f7b-46e4-bbd9-1ce0dfdb5207",
   "metadata": {},
   "outputs": [],
   "source": [
    "# Experiments with isl"
   ]
  },
  {
   "cell_type": "code",
   "execution_count": 3,
   "id": "a8a4b08d-170d-4d76-adca-599f539b6ab0",
   "metadata": {},
   "outputs": [],
   "source": [
    "import islpy as isl"
   ]
  },
  {
   "cell_type": "code",
   "execution_count": 6,
   "id": "9c2d67e9-ce53-4eb1-81c2-e7c731a38018",
   "metadata": {},
   "outputs": [],
   "source": [
    "\n",
    "space = isl.Space.create_from_names(isl.DEFAULT_CONTEXT, set=[\"x\", \"y\"])\n",
    "bset = (isl.BasicSet.universe(space)\n",
    "        .add_constraint(isl.Constraint.ineq_from_names(space, {1: -1, \"x\": 1}))\n",
    "        .add_constraint(isl.Constraint.ineq_from_names(space, {1: 5, \"x\": -1}))\n",
    "        .add_constraint(isl.Constraint.ineq_from_names(space, {1: -1, \"y\": 1}))\n",
    "        .add_constraint(isl.Constraint.ineq_from_names(space, {1: 5, \"y\": -1})))\n",
    "bset2 = isl.BasicSet(\"{[x, y] : x >= 0 and x < 5 and y >= 0 and y < x+4 }\")\n"
   ]
  },
  {
   "cell_type": "code",
   "execution_count": null,
   "id": "0e903247-24f5-4d36-8c52-e412d78aee3c",
   "metadata": {},
   "outputs": [],
   "source": [
    "sp1 = isl.Space.create_from_names(isl.DEFAULT_CONTEXT, set=[\"i\", \"j\"])\n",
    "bs1 = isl.BasicSet(\"{[i,j] : 0 <= i <= 25 and 0 <= j <= 31}\")\n",
    "bs2 = isl.BasicSet(\"{[i,j] : 5 <= i <= 10 and 0 <= j <= 25 - i}\")\n",
    "m1 = isl.BasicMap(\"{F[i] -> T[i-1] : 0 <= i <= 50}\")\n",
    "\n",
    "# Necessary for BasicSets\n",
    "bs1.get_space() == bs2.get_space()"
   ]
  },
  {
   "cell_type": "code",
   "execution_count": 70,
   "id": "3cdcc24d-9f80-48e5-9654-43d6f00fed13",
   "metadata": {},
   "outputs": [
    {
     "data": {
      "text/plain": [
       "UnionSet(\"{ [i] : 0 <= i <= 25; [i, j] : 5 <= i <= 10 and 0 <= j <= 25 - i }\")"
      ]
     },
     "execution_count": 70,
     "metadata": {},
     "output_type": "execute_result"
    }
   ],
   "source": [
    "ubs1 = isl.UnionSet(\"{[i] : 0 <= i <= 25}\")\n",
    "ubs2 = isl.UnionSet(\"{[i,j] : 5 <= i <= 10 and 0 <= j <= 25 - i}\")\n",
    "ubs1.union(ubs2)"
   ]
  },
  {
   "cell_type": "code",
   "execution_count": 85,
   "id": "b7c7cebc-105d-4019-9ca0-3218b148ec52",
   "metadata": {},
   "outputs": [],
   "source": [
    "s1 = isl.Set(\"{[i]: 0 < i < 4}\")\n",
    "s2 = isl.Set(\"{[j]: 0 < j < 8}\")\n",
    "s3 = s1.union(s2)"
   ]
  },
  {
   "cell_type": "code",
   "execution_count": 86,
   "id": "979b2e6a-c0ee-4e37-b971-6cd1a80262b6",
   "metadata": {},
   "outputs": [
    {
     "data": {
      "text/plain": [
       "Set(\"{ [i] : 0 < i <= 7 }\")"
      ]
     },
     "execution_count": 86,
     "metadata": {},
     "output_type": "execute_result"
    }
   ],
   "source": []
  },
  {
   "cell_type": "code",
   "execution_count": null,
   "id": "c6f102c4-ca01-4554-9362-2b4a491afe6e",
   "metadata": {},
   "outputs": [],
   "source": []
  }
 ],
 "metadata": {
  "kernelspec": {
   "display_name": "Python 3 (ipykernel)",
   "language": "python",
   "name": "python3"
  },
  "language_info": {
   "codemirror_mode": {
    "name": "ipython",
    "version": 3
   },
   "file_extension": ".py",
   "mimetype": "text/x-python",
   "name": "python",
   "nbconvert_exporter": "python",
   "pygments_lexer": "ipython3",
   "version": "3.11.3"
  }
 },
 "nbformat": 4,
 "nbformat_minor": 5
}
