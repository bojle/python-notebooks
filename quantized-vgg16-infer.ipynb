{
 "cells": [
  {
   "cell_type": "code",
   "execution_count": 6,
   "id": "1ac63dea-1689-43d3-acc6-93ce22159c1d",
   "metadata": {},
   "outputs": [],
   "source": [
    "import tensorflow as tf\n",
    "from tensorflow.keras.layers import Input, Conv2D, ReLU\n",
    "from tensorflow.keras.layers import MaxPool2D, Flatten, Dense\n",
    "from tensorflow.keras import Model\n",
    "\n",
    "from keras.utils import load_img, img_to_array\n",
    "from keras.applications.vgg16 import preprocess_input\n",
    "from keras.applications.vgg16 import decode_predictions\n",
    "\n",
    "import numpy as np\n",
    "\n",
    "import timeit"
   ]
  },
  {
   "cell_type": "code",
   "execution_count": 10,
   "id": "74da53cf-49c1-4d91-81e4-564fd93860d4",
   "metadata": {},
   "outputs": [],
   "source": [
    "# returns an ndarray\n",
    "def preprocess(image):\n",
    "    image = load_img(image, target_size=(224, 224))\n",
    "    image = img_to_array(image)\n",
    "    image = image.reshape((1, image.shape[0], image.shape[1], image.shape[2]))\n",
    "    image = preprocess_input(image)\n",
    "    return image\n",
    "\n",
    "# yhat is np.array((1,1000), dtype=\"float32\")\n",
    "def postprocess(yhat, outputname):\n",
    "    yhat = yhat[outputname]\n",
    "    # convert the probabilities to class labels\n",
    "    label = decode_predictions(yhat, 3)\n",
    "    for i in range(3):\n",
    "        print(label[0][i])\n",
    "\n",
    "# returns key1 in {key1: value1, key2: value2 ...}\n",
    "def get_first_key(dictionary):\n",
    "    for key in dictionary:\n",
    "        return key\n",
    "    return None\n",
    "\n",
    "# returns a tuple (runner, inputname, outputname)\n",
    "def get_runner_and_io_names(interpreter):\n",
    "    # signature list is of the form {key: {inputs: value, outputs: values}}\n",
    "    signature_dict = interpreter.get_signature_list()\n",
    "    first_key = get_first_key(signature_dict)\n",
    "    runner = interpreter.get_signature_runner(first_key)\n",
    "    io_dict = signature_dict[first_key]\n",
    "    inputname = io_dict['inputs'][0]\n",
    "    outputname = io_dict['outputs'][0]\n",
    "    return (runner, inputname, outputname)\n",
    "\n",
    "# tflite based forward inference\n",
    "def forward(image_array, runner, inputname):\n",
    "    output = runner(input_1=image_array)\n",
    "    return output"
   ]
  },
  {
   "cell_type": "code",
   "execution_count": 33,
   "id": "589b60e8-e81e-4314-9155-72a40bbafd7f",
   "metadata": {},
   "outputs": [
    {
     "data": {
      "text/plain": [
       "1.0681031028120054"
      ]
     },
     "execution_count": 33,
     "metadata": {},
     "output_type": "execute_result"
    }
   ],
   "source": [
    "def quantize(array):\n",
    "    s = 255 / (np.max(array) - np.min(array))\n",
    "    f = lambda v: np.clip(np.round(s*v), -127, 127)\n",
    "    quantized_array = f(array)\n",
    "    return quantized_array\n",
    "\n",
    "image_array = preprocess('images/mug.jpg')\n",
    "get_scale(image_array)"
   ]
  },
  {
   "cell_type": "code",
   "execution_count": 11,
   "id": "569f6df4-5a6e-4616-873e-cd7b4e610b26",
   "metadata": {},
   "outputs": [],
   "source": [
    "interpreter = tf.lite.Interpreter(model_path=\"vgg16-int8.tflite\")\n",
    "interpreter.allocate_tensors()"
   ]
  },
  {
   "cell_type": "code",
   "execution_count": 39,
   "id": "39aa66d3-f8a4-4e1d-9ee4-7b38797f6c01",
   "metadata": {},
   "outputs": [
    {
     "name": "stdout",
     "output_type": "stream",
     "text": [
      "('n03063599', 'coffee_mug', 57)\n",
      "('n03063689', 'coffeepot', -101)\n",
      "('n07930864', 'cup', -109)\n"
     ]
    }
   ],
   "source": [
    "runner, inputname, outputname = get_runner_and_io_names(interpreter)\n",
    "image_array = quantize(preprocess('images/mug.jpg')).astype(np.int8)#.astype(np.int8)\n",
    "output = forward(image_array, runner, inputname)\n",
    "postprocess(output, outputname)"
   ]
  },
  {
   "cell_type": "code",
   "execution_count": 14,
   "id": "f1a85552-a6f6-4069-bc1b-95c176646dbe",
   "metadata": {},
   "outputs": [
    {
     "data": {
      "text/plain": [
       "array([  0, -12,   3,   3,   0,   1], dtype=int8)"
      ]
     },
     "execution_count": 14,
     "metadata": {},
     "output_type": "execute_result"
    }
   ],
   "source": [
    "np.array([0.5443, -12.333221, 3.65454, 3.82727, -0.456646, 257.62525]).astype(np.int8)"
   ]
  },
  {
   "cell_type": "code",
   "execution_count": 38,
   "id": "7846b2cf-7857-4a1e-af44-fb70baa313af",
   "metadata": {},
   "outputs": [
    {
     "data": {
      "text/plain": [
       "dtype('int8')"
      ]
     },
     "execution_count": 38,
     "metadata": {},
     "output_type": "execute_result"
    }
   ],
   "source": [
    "quantize(preprocess('images/mug.jpg')).astype(np.int8).dtype"
   ]
  },
  {
   "cell_type": "code",
   "execution_count": 32,
   "id": "581e924f-fab6-4347-bdb2-4acec5dbabdd",
   "metadata": {},
   "outputs": [
    {
     "name": "stdout",
     "output_type": "stream",
     "text": [
      "-123.68 115.061\n"
     ]
    }
   ],
   "source": [
    "print(np.min(preprocess('images/mug.jpg')),np.max(preprocess('images/mug.jpg')))"
   ]
  },
  {
   "cell_type": "code",
   "execution_count": null,
   "id": "583a4e31-9cfe-4e36-9926-cde20cdd566e",
   "metadata": {},
   "outputs": [],
   "source": [
    "min max quant\n",
    "array([[[[-109.,  -66.,  -59.],\n",
    "         [-105.,  -66.,  -58.],\n",
    "         [-108.,  -69.,  -62.],\n",
    "         ...,\n",
    "         [ -55.,  -33.,   -9.],\n",
    "         [ -46.,  -28.,   -4.],\n",
    "         [ -63.,  -47.,  -22.]],\n",
    "\n",
    "        [[-108.,  -66.,  -59.],\n",
    "         [-102.,  -66.,  -58.],\n",
    "         [-107.,  -68.,  -61.],\n",
    "\n",
    "casting\n",
    "array([[[[-101,  -61,  -55],\n",
    "         [ -97,  -61,  -54],\n",
    "         [-100,  -64,  -57],\n",
    "         ...,\n",
    "         [ -51,  -30,   -8],\n",
    "         [ -42,  -25,   -3],\n",
    "         [ -58,  -43,  -20]],\n",
    "\n",
    "        [[-100,  -61,  -55],\n",
    "         [ -95,  -61,  -54],\n",
    "         [ -99,  -63,  -56],"
   ]
  }
 ],
 "metadata": {
  "kernelspec": {
   "display_name": "Python 3 (ipykernel)",
   "language": "python",
   "name": "python3"
  },
  "language_info": {
   "codemirror_mode": {
    "name": "ipython",
    "version": 3
   },
   "file_extension": ".py",
   "mimetype": "text/x-python",
   "name": "python",
   "nbconvert_exporter": "python",
   "pygments_lexer": "ipython3",
   "version": "3.11.3"
  }
 },
 "nbformat": 4,
 "nbformat_minor": 5
}
