{
 "cells": [
  {
   "cell_type": "code",
   "execution_count": 27,
   "id": "59ad64fd-c1c6-46f8-a299-0f2281564248",
   "metadata": {},
   "outputs": [],
   "source": [
    "import onnx\n",
    "import numpy as np\n",
    "import re\n",
    "from math import ceil\n",
    "from PIL import Image\n",
    "\n",
    "import torch"
   ]
  },
  {
   "cell_type": "code",
   "execution_count": 29,
   "id": "646bba41-f82b-4dac-a041-8184bc78a42b",
   "metadata": {},
   "outputs": [],
   "source": [
    "# ifmap 2d, kernel 2d -> out 2d \n",
    "def _conv2d(ctx, ifmap, kernel):\n",
    "    \"\"\" conv2d helper - conv ifmap[i,j] with kernel \"\"\"\n",
    "    out = np.zeros(ctx.Hout * ctx.Wout)\n",
    "    out_index = 0\n",
    "    for i in range(ctx.Hout):\n",
    "        for j in range(ctx.Wout):\n",
    "            for ii in range(ctx.KH):\n",
    "                for jj in range(ctx.KW):\n",
    "                     #print(ifmap.shape)\n",
    "                     out[out_index] = out[out_index] + (ifmap[ii+i,jj+j] * kernel[ii, jj])                       \n",
    "            out_index = out_index + 1\n",
    "    return out.reshape(ctx.Hout, ctx.Wout)\n",
    "\n",
    "# ifmap 3d, kernel 3d -> out 2d (from addition of all the channels)\n",
    "def conv2d(ctx, ifmap, kernel):\n",
    "    out = np.empty((ctx.IC, ctx.Hout, ctx.Wout))\n",
    "    for i in range(ctx.IC):\n",
    "        out[i] = _conv2d(ctx, ifmap[0,i,:,:], kernel[i])\n",
    "    out = np.sum(out, axis=0)\n",
    "    return out\n",
    "\n",
    "class ctx:\n",
    "    def __init__(self, ifmap, kernels, stride=1, padding=0):\n",
    "        \"\"\" Args:\n",
    "                ifmap: input map\n",
    "                kernels: list of kernels each of size KH, KW\n",
    "            Returns:\n",
    "                ctx: object that collects N,C,IH,IW,KH,KW,Hout,Wout\n",
    "        \"\"\"\n",
    "        self.N, self.C, self.IH, self.IW = ifmap.shape\n",
    "        self.S, self.P = (stride, padding)\n",
    "        self.KN = kernels.shape[0]\n",
    "        self.IC = kernels.shape[1]\n",
    "        self.KH = kernels.shape[2]\n",
    "        self.KW = kernels.shape[3]\n",
    "        self.Hout = ceil((self.IW - self.KW)/stride) + 1\n",
    "        self.Wout = ceil((self.IH - self.KH)/stride) + 1\n",
    "\n",
    "def preprocess(image):\n",
    "    image = Image.open(image)\n",
    "    image = image.resize((224,224))\n",
    "    image = np.array(image).reshape((1,3,224,224))\n",
    "    # missing this \n",
    "    #image = preprocess_input(image)\n",
    "    return image\n",
    "\n",
    "def get_initializers(model):\n",
    "    model = onnx.load(model)\n",
    "    return model.graph.initializer\n",
    "    \n",
    "def get_kernel(model_name, layer_num):    \n",
    "    initializers = get_initializers(model_name)\n",
    "    p = re.compile('vgg0_conv{}_weight_quantized'.format(layer_num))\n",
    "    for i in initializers:\n",
    "        if p.match(i.name):\n",
    "            print(i.name)\n",
    "            array = np.frombuffer(i.raw_data, dtype=np.int8).reshape(i.dims)\n",
    "            return array\n",
    "\n",
    "def infer_layer(model, ifm, layer):\n",
    "    kernels = get_kernel(model, layer)\n",
    "    ctxo = ctx(ifm, kernels, stride=1, padding=0)\n",
    "    print(kernels.shape)\n",
    "    out = []\n",
    "    for i in range(kernels.shape[0]):\n",
    "        kernel = kernels[i]\n",
    "        out.append(conv2d(ctxo, ifm, kernel))\n",
    "    return np.array(out)\n",
    "\n",
    "def infer_layer_torch(model, ifm, layer):\n",
    "    input = torch.Tensor(ifm)\n",
    "    kernels = torch.Tensor(np.copy(get_kernel(model, layer))) \n",
    "    return torch.nn.functional.conv2d(input, kernels)"
   ]
  },
  {
   "cell_type": "code",
   "execution_count": 26,
   "id": "ab739201-c117-4f4a-9cd6-22cfa94cc17d",
   "metadata": {},
   "outputs": [
    {
     "name": "stdout",
     "output_type": "stream",
     "text": [
      "vgg0_conv0_weight_quantized\n",
      "(64, 3, 3, 3)\n"
     ]
    }
   ],
   "source": [
    "ifm = preprocess(\"images/mug.jpg\")\n",
    "model_name = \"onnx/vgg/vgg16-12-int8.onnx\"\n",
    "oo = infer_layer(model_name, ifm, 0)"
   ]
  },
  {
   "cell_type": "code",
   "execution_count": 36,
   "id": "c192a277-a4d0-4216-b9b1-cb8d606cb921",
   "metadata": {},
   "outputs": [],
   "source": [
    "oo = oo.reshape((1,64,222,222))"
   ]
  },
  {
   "cell_type": "code",
   "execution_count": 40,
   "id": "cd28028f-03aa-4b7d-8268-4a80c5489d56",
   "metadata": {},
   "outputs": [
    {
     "name": "stdout",
     "output_type": "stream",
     "text": [
      "vgg0_conv0_weight_quantized\n"
     ]
    }
   ],
   "source": [
    "bo = np.array(infer_layer_torch(model_name, ifm, 0))"
   ]
  },
  {
   "cell_type": "code",
   "execution_count": 43,
   "id": "2dc2f949-86e8-4a94-9cd0-a7313dd2823c",
   "metadata": {},
   "outputs": [
    {
     "data": {
      "text/plain": [
       "array([[[[ True,  True,  True, ...,  True,  True,  True],\n",
       "         [ True,  True,  True, ...,  True,  True,  True],\n",
       "         [ True,  True,  True, ...,  True,  True,  True],\n",
       "         ...,\n",
       "         [ True,  True,  True, ...,  True,  True,  True],\n",
       "         [ True,  True,  True, ...,  True,  True,  True],\n",
       "         [ True,  True,  True, ...,  True,  True,  True]],\n",
       "\n",
       "        [[ True,  True,  True, ...,  True,  True,  True],\n",
       "         [ True,  True,  True, ...,  True,  True,  True],\n",
       "         [ True,  True,  True, ...,  True,  True,  True],\n",
       "         ...,\n",
       "         [ True,  True,  True, ...,  True,  True,  True],\n",
       "         [ True,  True,  True, ...,  True,  True,  True],\n",
       "         [ True,  True,  True, ...,  True,  True,  True]],\n",
       "\n",
       "        [[ True,  True,  True, ...,  True,  True,  True],\n",
       "         [ True,  True,  True, ...,  True,  True,  True],\n",
       "         [ True,  True,  True, ...,  True,  True,  True],\n",
       "         ...,\n",
       "         [ True,  True,  True, ...,  True,  True,  True],\n",
       "         [ True,  True,  True, ...,  True,  True,  True],\n",
       "         [ True,  True,  True, ...,  True,  True,  True]],\n",
       "\n",
       "        ...,\n",
       "\n",
       "        [[ True,  True,  True, ...,  True,  True,  True],\n",
       "         [ True,  True,  True, ...,  True,  True,  True],\n",
       "         [ True,  True,  True, ...,  True,  True,  True],\n",
       "         ...,\n",
       "         [ True,  True,  True, ...,  True,  True,  True],\n",
       "         [ True,  True,  True, ...,  True,  True,  True],\n",
       "         [ True,  True,  True, ...,  True,  True,  True]],\n",
       "\n",
       "        [[ True,  True,  True, ...,  True,  True,  True],\n",
       "         [ True,  True,  True, ...,  True,  True,  True],\n",
       "         [ True,  True,  True, ...,  True,  True,  True],\n",
       "         ...,\n",
       "         [ True,  True,  True, ...,  True,  True,  True],\n",
       "         [ True,  True,  True, ...,  True,  True,  True],\n",
       "         [ True,  True,  True, ...,  True,  True,  True]],\n",
       "\n",
       "        [[ True,  True,  True, ...,  True,  True,  True],\n",
       "         [ True,  True,  True, ...,  True,  True,  True],\n",
       "         [ True,  True,  True, ...,  True,  True,  True],\n",
       "         ...,\n",
       "         [ True,  True,  True, ...,  True,  True,  True],\n",
       "         [ True,  True,  True, ...,  True,  True,  True],\n",
       "         [ True,  True,  True, ...,  True,  True,  True]]]])"
      ]
     },
     "execution_count": 43,
     "metadata": {},
     "output_type": "execute_result"
    }
   ],
   "source": [
    "oo == bo"
   ]
  },
  {
   "cell_type": "code",
   "execution_count": null,
   "id": "00305a78-d620-4da8-973e-63f25c64d698",
   "metadata": {},
   "outputs": [],
   "source": []
  }
 ],
 "metadata": {
  "kernelspec": {
   "display_name": "Python 3 (ipykernel)",
   "language": "python",
   "name": "python3"
  },
  "language_info": {
   "codemirror_mode": {
    "name": "ipython",
    "version": 3
   },
   "file_extension": ".py",
   "mimetype": "text/x-python",
   "name": "python",
   "nbconvert_exporter": "python",
   "pygments_lexer": "ipython3",
   "version": "3.11.6"
  }
 },
 "nbformat": 4,
 "nbformat_minor": 5
}
