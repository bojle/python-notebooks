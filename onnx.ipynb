{
 "cells": [
  {
   "cell_type": "code",
   "execution_count": null,
   "id": "dd371eae-c3a4-408e-87f5-608baa956ba9",
   "metadata": {},
   "outputs": [],
   "source": [
    "# Reading weights and biases from a onnx model file"
   ]
  },
  {
   "cell_type": "code",
   "execution_count": 10,
   "id": "0532c299-aa9e-4470-a870-4c43877d11a3",
   "metadata": {},
   "outputs": [],
   "source": [
    "import onnx\n",
    "import numpy as np\n",
    "import re\n",
    "import math"
   ]
  },
  {
   "cell_type": "code",
   "execution_count": 3,
   "id": "54d111a9-41fd-4c4b-9c89-36455351dde8",
   "metadata": {},
   "outputs": [],
   "source": [
    "model = onnx.load(\"/home/metal/dev/vaaman-cnn/onnx/vgg16-12.onnx\")\n",
    "graph_def = model.graph\n",
    "initializers = graph_def.initializer"
   ]
  },
  {
   "cell_type": "code",
   "execution_count": 11,
   "id": "8b1e5f35-daad-471b-9da0-d922f9a94853",
   "metadata": {},
   "outputs": [],
   "source": [
    "model2 = onnx.load('/home/metal/dev/vaaman-cnn/onnx/vgg16-12-int8.onnx')\n",
    "graph_def2 = model2.graph\n",
    "initializers2 = graph_def2.initializer"
   ]
  },
  {
   "cell_type": "code",
   "execution_count": null,
   "id": "b75cff76-084a-4882-94ec-7e750460f0f8",
   "metadata": {},
   "outputs": [],
   "source": [
    "for initializer in initializers2:\n",
    "    print(initializer.name)\n",
    "    print(initializer.dims)\n",
    "    if ((initializer.name) == \"vgg0_conv3_weight_quantized\"):\n",
    "        print(initializer.name)\n",
    "        print(initializer.dims)\n",
    "        #array = np.array(initializer.float_data).reshape(initializer.dims)\n",
    "        array = np.frombuffer(initializer.raw_data, dtype=np.uint8).reshape(initializer.dims)\n",
    "        print(array[0,0,:,:])\n",
    "        print(array[0,1,:,:])\n",
    "        print(array[0,2,:,:])\n",
    "        print()\n",
    "        "
   ]
  },
  {
   "cell_type": "code",
   "execution_count": null,
   "id": "275da3c4-e29f-4fce-9005-d14a3c02065d",
   "metadata": {},
   "outputs": [],
   "source": [
    "p = re.compile(\"vgg0_conv._weight_zero_point\")\n",
    "for initializer in initializers2:\n",
    "    if (p.match(initializer.name)):\n",
    "        print(initializer.name)\n",
    "        print(initializer.dims)\n",
    "        print(onnx.TensorProto.INT32)\n",
    "        print(initializer.int32_data)"
   ]
  },
  {
   "cell_type": "code",
   "execution_count": 5,
   "id": "d91245b4-07b6-46d1-a28c-a22dc5290488",
   "metadata": {},
   "outputs": [
    {
     "name": "stdout",
     "output_type": "stream",
     "text": [
      "These many params: 14 710 464 conv parameters\n"
     ]
    }
   ],
   "source": [
    "print(f\"These many params: 14 710 464 conv parameters\")"
   ]
  }
 ],
 "metadata": {
  "kernelspec": {
   "display_name": "Python 3 (ipykernel)",
   "language": "python",
   "name": "python3"
  },
  "language_info": {
   "codemirror_mode": {
    "name": "ipython",
    "version": 3
   },
   "file_extension": ".py",
   "mimetype": "text/x-python",
   "name": "python",
   "nbconvert_exporter": "python",
   "pygments_lexer": "ipython3",
   "version": "3.11.3"
  }
 },
 "nbformat": 4,
 "nbformat_minor": 5
}
