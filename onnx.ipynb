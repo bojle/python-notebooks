{
 "cells": [
  {
   "cell_type": "code",
   "execution_count": null,
   "id": "dd371eae-c3a4-408e-87f5-608baa956ba9",
   "metadata": {},
   "outputs": [],
   "source": [
    "# Reading weights and biases from a onnx model file"
   ]
  },
  {
   "cell_type": "code",
   "execution_count": 1,
   "id": "0532c299-aa9e-4470-a870-4c43877d11a3",
   "metadata": {},
   "outputs": [],
   "source": [
    "import onnx\n",
    "import numpy as np\n",
    "import re\n",
    "import math"
   ]
  },
  {
   "cell_type": "code",
   "execution_count": 2,
   "id": "54d111a9-41fd-4c4b-9c89-36455351dde8",
   "metadata": {},
   "outputs": [],
   "source": [
    "model = onnx.load(\"/home/metal/dev/vaaman-cnn/onnx/vgg16-12-int8.onnx\")\n",
    "graph_def = model.graph\n",
    "initializers = graph_def.initializer"
   ]
  },
  {
   "cell_type": "code",
   "execution_count": 10,
   "id": "8b1e5f35-daad-471b-9da0-d922f9a94853",
   "metadata": {},
   "outputs": [],
   "source": [
    "model2 = onnx.load('/home/metal/dev/vaaman-cnn/onnx/resnet50-v2-7.onnx')\n",
    "graph_def2 = model2.graph\n",
    "initializers2 = graph_def2.initializer"
   ]
  },
  {
   "cell_type": "code",
   "execution_count": null,
   "id": "d5efbf31-119e-4ad6-b624-af865c1ed96e",
   "metadata": {},
   "outputs": [],
   "source": [
    "for node in graph_def.node:\n",
    "    # node inputs\n",
    "    for idx, node_input_name in enumerate(node.input):\n",
    "        print(idx, node_input_name)\n",
    "    # node outputs\n",
    "    #for idx, node_output_name in enumerate(node.output):\n",
    "    #    print(idx, node_output_name)"
   ]
  },
  {
   "cell_type": "code",
   "execution_count": null,
   "id": "b75cff76-084a-4882-94ec-7e750460f0f8",
   "metadata": {},
   "outputs": [],
   "source": [
    "for initializer in initializers2:\n",
    "    print(initializer.name)\n",
    "    print(initializer.dims)\n",
    "    #if ((initializer.name) == \"vgg0_conv3_weight_quantized\"):\n",
    "    #    print(initializer.name)\n",
    "    #    print(initializer.dims)\n",
    "    #    #array = np.array(initializer.float_data).reshape(initializer.dims)\n",
    "    #    array = np.frombuffer(initializer.raw_data, dtype=np.uint8).reshape(initializer.dims)\n",
    "    #    print(array[0,0,:,:])\n",
    "    #    print(array[0,1,:,:])\n",
    "    #    print(array[0,2,:,:])\n",
    "    #    print()\n",
    "        "
   ]
  },
  {
   "cell_type": "code",
   "execution_count": null,
   "id": "275da3c4-e29f-4fce-9005-d14a3c02065d",
   "metadata": {},
   "outputs": [],
   "source": [
    "p = re.compile(\"batch\")\n",
    "for initializer in initializers2:\n",
    "    print(initializer.name)\n",
    "    #if (p.match(initializer.name)):\n",
    "    #    print(initializer.name)\n",
    "    #    print(initializer.dims)\n",
    "    #    print(onnx.TensorProto.INT32)\n",
    "    #    print(initializer.int32_data)"
   ]
  },
  {
   "cell_type": "code",
   "execution_count": 5,
   "id": "d91245b4-07b6-46d1-a28c-a22dc5290488",
   "metadata": {},
   "outputs": [
    {
     "name": "stdout",
     "output_type": "stream",
     "text": [
      "These many params: 14 710 464 conv parameters\n"
     ]
    }
   ],
   "source": [
    "print(f\"These many params: 14 710 464 conv parameters\")"
   ]
  },
  {
   "cell_type": "code",
   "execution_count": 14,
   "id": "dbfd3123-5f4e-4da8-a516-68c2bb45d024",
   "metadata": {},
   "outputs": [
    {
     "data": {
      "text/plain": [
       "array([[215, 219, 236],\n",
       "       [206, 219, 233],\n",
       "       [207, 206, 217]], dtype=uint8)"
      ]
     },
     "execution_count": 14,
     "metadata": {},
     "output_type": "execute_result"
    }
   ],
   "source": [
    "def fetch_kernel(layer, n, c):\n",
    "    lname = 'vgg0_conv{}_weight_quantized'.format(layer)\n",
    "    for initializer in initializers:    \n",
    "        if ((initializer.name) == lname):\n",
    "            array = np.frombuffer(initializer.raw_data, dtype=np.uint8).reshape(initializer.dims)\n",
    "            return array[n,c,:,:]\n",
    "fetch_kernel(12, 0, 1)"
   ]
  },
  {
   "cell_type": "code",
   "execution_count": 4,
   "id": "09e01a4f-8805-49d9-a999-0bb08a8ba292",
   "metadata": {},
   "outputs": [
    {
     "name": "stdout",
     "output_type": "stream",
     "text": [
      "[[ 78  50   6]\n",
      " [ 56  15 247]\n",
      " [ 23   5 247]]\n",
      "[[211 174 208]\n",
      " [195 129 193]\n",
      " [244 225   7]]\n",
      "[[ 28  21  28]\n",
      " [ 26 247  29]\n",
      " [ 37  52  63]]\n",
      "\n"
     ]
    }
   ],
   "source": [
    "for initializer in initializers:\n",
    "    #print(initializer.name)\n",
    "    #print(initializer.dims)\n",
    "    if ((initializer.name) == \"vgg0_conv0_weight_quantized\"):\n",
    "    #    print(initializer.name)\n",
    "    #    print(initializer.dims)\n",
    "    #    array = np.array(initializer.float_data).reshape(initializer.dims)\n",
    "        array = np.frombuffer(initializer.raw_data, dtype=np.uint8).reshape(initializer.dims)\n",
    "        print(array[0,0,:,:])\n",
    "        print(array[0,1,:,:])\n",
    "        print(array[0,2,:,:])\n",
    "        print()\n",
    "        "
   ]
  },
  {
   "cell_type": "code",
   "execution_count": null,
   "id": "e54390a2-76f4-4e50-8411-d7a244155038",
   "metadata": {},
   "outputs": [],
   "source": []
  }
 ],
 "metadata": {
  "kernelspec": {
   "display_name": "Python 3 (ipykernel)",
   "language": "python",
   "name": "python3"
  },
  "language_info": {
   "codemirror_mode": {
    "name": "ipython",
    "version": 3
   },
   "file_extension": ".py",
   "mimetype": "text/x-python",
   "name": "python",
   "nbconvert_exporter": "python",
   "pygments_lexer": "ipython3",
   "version": "3.11.5"
  }
 },
 "nbformat": 4,
 "nbformat_minor": 5
}
