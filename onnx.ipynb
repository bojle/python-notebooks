{
 "cells": [
  {
   "cell_type": "code",
   "execution_count": null,
   "id": "dd371eae-c3a4-408e-87f5-608baa956ba9",
   "metadata": {},
   "outputs": [],
   "source": [
    "# Reading weights and biases from a onnx model file"
   ]
  },
  {
   "cell_type": "code",
   "execution_count": 1,
   "id": "0532c299-aa9e-4470-a870-4c43877d11a3",
   "metadata": {},
   "outputs": [],
   "source": [
    "import onnx\n",
    "import numpy as np\n",
    "import re"
   ]
  },
  {
   "cell_type": "code",
   "execution_count": 2,
   "id": "54d111a9-41fd-4c4b-9c89-36455351dde8",
   "metadata": {},
   "outputs": [],
   "source": [
    "model = onnx.load(\"/home/metal/dev/vaaman-cnn/onnx/vgg16-12.onnx\")\n",
    "graph_def = model.graph\n",
    "initializers = graph_def.initializer"
   ]
  },
  {
   "cell_type": "code",
   "execution_count": 3,
   "id": "8b1e5f35-daad-471b-9da0-d922f9a94853",
   "metadata": {},
   "outputs": [],
   "source": [
    "model2 = onnx.load('/home/metal/dev/vaaman-cnn/onnx/vgg16-12-int8.onnx')\n",
    "graph_def2 = model2.graph\n",
    "initializers2 = graph_def2.initializer"
   ]
  },
  {
   "cell_type": "code",
   "execution_count": 4,
   "id": "b75cff76-084a-4882-94ec-7e750460f0f8",
   "metadata": {},
   "outputs": [
    {
     "name": "stdout",
     "output_type": "stream",
     "text": [
      "vgg0_conv3_weight_quantized\n",
      "[128, 128, 3, 3]\n",
      "[[  2  58 250]\n",
      " [228   6  42]\n",
      " [238 215  24]]\n",
      "[[255 242 238]\n",
      " [  3 248 254]\n",
      " [  1   2 244]]\n",
      "[[255 246 248]\n",
      " [  0   1 251]\n",
      " [248   7   6]]\n",
      "\n"
     ]
    }
   ],
   "source": [
    "for initializer in initializers2:\n",
    "    if ((initializer.name) == \"vgg0_conv3_weight_quantized\"):\n",
    "        print(initializer.name)\n",
    "        print(initializer.dims)\n",
    "        #array = np.array(initializer.float_data).reshape(initializer.dims)\n",
    "        array = np.frombuffer(initializer.raw_data, dtype=np.uint8).reshape(initializer.dims)\n",
    "        print(array[0,0,:,:])\n",
    "        print(array[0,1,:,:])\n",
    "        print(array[0,2,:,:])\n",
    "        print()"
   ]
  },
  {
   "cell_type": "code",
   "execution_count": 5,
   "id": "d91245b4-07b6-46d1-a28c-a22dc5290488",
   "metadata": {},
   "outputs": [
    {
     "name": "stdout",
     "output_type": "stream",
     "text": [
      "These many params: 14 710 464 conv parameters\n"
     ]
    }
   ],
   "source": [
    "print(f\"These many params: 14 710 464 conv parameters\")"
   ]
  },
  {
   "cell_type": "code",
   "execution_count": 1,
   "id": "cfb2ce7d-7fe2-4068-a71a-f823518590e6",
   "metadata": {},
   "outputs": [
    {
     "ename": "NameError",
     "evalue": "name 're' is not defined",
     "output_type": "error",
     "traceback": [
      "\u001b[0;31m---------------------------------------------------------------------------\u001b[0m",
      "\u001b[0;31mNameError\u001b[0m                                 Traceback (most recent call last)",
      "Cell \u001b[0;32mIn[1], line 2\u001b[0m\n\u001b[1;32m      1\u001b[0m \u001b[38;5;66;03m# Describe\u001b[39;00m\n\u001b[0;32m----> 2\u001b[0m p \u001b[38;5;241m=\u001b[39m \u001b[43mre\u001b[49m\u001b[38;5;241m.\u001b[39mcompile(\u001b[38;5;124m\"\u001b[39m\u001b[38;5;124mvgg0_conv[0-9]+_bias\u001b[39m\u001b[38;5;124m\"\u001b[39m)\n\u001b[1;32m      3\u001b[0m \u001b[38;5;28;01mfor\u001b[39;00m initializer \u001b[38;5;129;01min\u001b[39;00m initializers:\n\u001b[1;32m      4\u001b[0m     \u001b[38;5;28;01mif\u001b[39;00m (p\u001b[38;5;241m.\u001b[39mmatch(initializer\u001b[38;5;241m.\u001b[39mname)):\n",
      "\u001b[0;31mNameError\u001b[0m: name 're' is not defined"
     ]
    }
   ],
   "source": [
    "# Describe\n",
    "p = re.compile(\"vgg0_conv[0-9]+_bias\")\n",
    "for initializer in initializers:\n",
    "    if (p.match(initializer.name)):\n",
    "        print(initializer.name)\n",
    "        print(initializer.dims)\n",
    "        print(initializer.raw_data)"
   ]
  },
  {
   "cell_type": "code",
   "execution_count": null,
   "id": "359439c3-9600-4ce5-af92-70ea156e0d08",
   "metadata": {},
   "outputs": [],
   "source": []
  },
  {
   "cell_type": "code",
   "execution_count": null,
   "id": "3c70d3b6-aefa-4ad9-9c21-3d6ab9df6fd2",
   "metadata": {},
   "outputs": [],
   "source": []
  }
 ],
 "metadata": {
  "kernelspec": {
   "display_name": "Python 3 (ipykernel)",
   "language": "python",
   "name": "python3"
  },
  "language_info": {
   "codemirror_mode": {
    "name": "ipython",
    "version": 3
   },
   "file_extension": ".py",
   "mimetype": "text/x-python",
   "name": "python",
   "nbconvert_exporter": "python",
   "pygments_lexer": "ipython3",
   "version": "3.11.3"
  }
 },
 "nbformat": 4,
 "nbformat_minor": 5
}
