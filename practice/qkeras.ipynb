{
 "cells": [
  {
   "cell_type": "code",
   "execution_count": 1,
   "id": "8a730440-9cbf-46a7-83e7-9af3ae4ed415",
   "metadata": {},
   "outputs": [
    {
     "name": "stderr",
     "output_type": "stream",
     "text": [
      "2024-03-16 15:58:54.320622: E external/local_xla/xla/stream_executor/cuda/cuda_dnn.cc:9261] Unable to register cuDNN factory: Attempting to register factory for plugin cuDNN when one has already been registered\n",
      "2024-03-16 15:58:54.320652: E external/local_xla/xla/stream_executor/cuda/cuda_fft.cc:607] Unable to register cuFFT factory: Attempting to register factory for plugin cuFFT when one has already been registered\n",
      "2024-03-16 15:58:54.321517: E external/local_xla/xla/stream_executor/cuda/cuda_blas.cc:1515] Unable to register cuBLAS factory: Attempting to register factory for plugin cuBLAS when one has already been registered\n",
      "2024-03-16 15:58:54.326789: I tensorflow/core/platform/cpu_feature_guard.cc:182] This TensorFlow binary is optimized to use available CPU instructions in performance-critical operations.\n",
      "To enable the following instructions: AVX2 FMA, in other operations, rebuild TensorFlow with the appropriate compiler flags.\n"
     ]
    }
   ],
   "source": [
    "import qkeras as qk\n",
    "import tensorflow as tf\n",
    "import tensorflow.keras as k"
   ]
  },
  {
   "cell_type": "code",
   "execution_count": 24,
   "id": "1cc63573-a7ea-494d-a412-ae3b996b7a86",
   "metadata": {},
   "outputs": [
    {
     "name": "stdout",
     "output_type": "stream",
     "text": [
      "Epoch 1/6\n",
      "1875/1875 [==============================] - 25s 12ms/step - loss: 0.2538 - accuracy: 0.9264\n",
      "Epoch 2/6\n",
      "1875/1875 [==============================] - 24s 13ms/step - loss: 0.1021 - accuracy: 0.9697\n",
      "Epoch 3/6\n",
      "1875/1875 [==============================] - 24s 13ms/step - loss: 0.0820 - accuracy: 0.9752\n",
      "Epoch 4/6\n",
      "1875/1875 [==============================] - 24s 13ms/step - loss: 0.0773 - accuracy: 0.9768\n",
      "Epoch 5/6\n",
      "1875/1875 [==============================] - 25s 13ms/step - loss: 0.0669 - accuracy: 0.9796\n",
      "Epoch 6/6\n",
      "1875/1875 [==============================] - 25s 13ms/step - loss: 0.0633 - accuracy: 0.9804\n"
     ]
    },
    {
     "data": {
      "text/plain": [
       "<keras.src.callbacks.History at 0x70263612e110>"
      ]
     },
     "execution_count": 24,
     "metadata": {},
     "output_type": "execute_result"
    }
   ],
   "source": [
    "mnist = tf.keras.datasets.mnist\n",
    "(x_train, y_train), (x_test, y_test) = mnist.load_data()\n",
    "x_train, x_test = x_train / 255.0, x_test / 255.0\n",
    "\n",
    "model5 = tf.keras.models.Sequential([\n",
    "tf.keras.layers.Input((28,28,1), name=\"input\"),\n",
    "qk.QConv2D(16, 3, input_shape=(28, 28, 1), kernel_quantizer=qk.ternary(alpha=\"auto\", use_stochastic_rounding=True)),\n",
    "qk.QActivation(\"quantized_relu(2,0)\"),\n",
    "qk.QConv2D(16, 3, input_shape=(28, 28, 1), kernel_quantizer=qk.ternary(alpha=\"auto\", use_stochastic_rounding=True)),\n",
    "qk.QActivation(\"quantized_relu(2,0)\"),\n",
    "tf.keras.layers.MaxPooling2D(strides=2),\n",
    "tf.keras.layers.Flatten(),\n",
    "qk.QDense(10, kernel_quantizer=qk.ternary(alpha=\"auto\", use_stochastic_rounding=True),\n",
    "           bias_quantizer=qk.ternary(alpha=\"auto\", use_stochastic_rounding=True))])\n",
    "loss_fn = tf.keras.losses.SparseCategoricalCrossentropy(from_logits=True)\n",
    "model5.compile(optimizer='rmsprop', loss=loss_fn, metrics=['accuracy'])\n",
    "model5.fit(x_train.reshape(60000, 28, 28, 1), y_train, epochs=6)"
   ]
  },
  {
   "cell_type": "code",
   "execution_count": 29,
   "id": "0562f058-9fd0-4ee7-a626-9f072a600406",
   "metadata": {},
   "outputs": [
    {
     "name": "stderr",
     "output_type": "stream",
     "text": [
      "/home/metal/dev/misc/python/lib/python3.11/site-packages/keras/src/constraints.py:365: UserWarning: The `keras.constraints.serialize()` API should only be used for objects of type `keras.constraints.Constraint`. Found an instance of type <class 'qkeras.quantizers.ternary'>, which may lead to improper serialization.\n",
      "  warnings.warn(\n"
     ]
    },
    {
     "name": "stdout",
     "output_type": "stream",
     "text": [
      "WARNING:tensorflow:From /home/metal/dev/misc/python/lib/python3.11/site-packages/qkeras/estimate.py:340: Tensor.experimental_ref (from tensorflow.python.framework.tensor) is deprecated and will be removed in a future version.\n",
      "Instructions for updating:\n",
      "Use ref() instead.\n"
     ]
    },
    {
     "name": "stderr",
     "output_type": "stream",
     "text": [
      "WARNING:tensorflow:From /home/metal/dev/misc/python/lib/python3.11/site-packages/qkeras/estimate.py:340: Tensor.experimental_ref (from tensorflow.python.framework.tensor) is deprecated and will be removed in a future version.\n",
      "Instructions for updating:\n",
      "Use ref() instead.\n"
     ]
    },
    {
     "name": "stdout",
     "output_type": "stream",
     "text": [
      "\n",
      "Number of operations in model:\n",
      "    q_conv2d_14                   : 97344 (smux_2_8)\n",
      "    q_conv2d_15                   : 1327104 (smux_2_2)\n",
      "    q_dense_5                     : 23040 (smux_2_2)\n",
      "\n",
      "Number of operation types in model:\n",
      "    smux_2_2                      : 1350144\n",
      "    smux_2_8                      : 97344\n",
      "\n",
      "Weight profiling:\n",
      "    q_conv2d_14_weights            : 144   (2-bit unit)\n",
      "    q_conv2d_14_bias               : 16    (32-bit unit)\n",
      "    q_conv2d_15_weights            : 2304  (2-bit unit)\n",
      "    q_conv2d_15_bias               : 16    (32-bit unit)\n",
      "    q_dense_5_weights              : 23040 (2-bit unit)\n",
      "    q_dense_5_bias                 : 10    (2-bit unit)\n",
      "\n",
      "Weight sparsity:\n",
      "... quantizing model\n",
      "    q_conv2d_14                    : 0.2938\n",
      "    q_conv2d_15                    : 0.5534\n",
      "    q_dense_5                      : 0.4908\n",
      "    ----------------------------------------\n",
      "    Total Sparsity                 : 0.4952\n"
     ]
    }
   ],
   "source": [
    "qk.print_qstats(model5)"
   ]
  },
  {
   "cell_type": "code",
   "execution_count": 30,
   "id": "1b2bead9-7d3d-496d-a083-d51c6c3ba70a",
   "metadata": {},
   "outputs": [
    {
     "name": "stdout",
     "output_type": "stream",
     "text": [
      "temp dir /tmp/tmpw6qbiazy\n",
      "create dir /tmp/tmpw6qbiazy\n",
      "1/1 [==============================] - 1s 658ms/step\n",
      "writing the layer output tensor to  /tmp/tmpw6qbiazy/q_conv2d_14.bin\n",
      "writing the layer output tensor to  /tmp/tmpw6qbiazy/q_conv2d_15.bin\n",
      "writing the layer output tensor to  /tmp/tmpw6qbiazy/q_dense_5.bin\n"
     ]
    }
   ],
   "source": [
    "qk.utils.quantized_model_dump(model5, x_train[:10], layers_to_dump=[\"q_conv2d_14\", \"q_conv2d_15\", \"q_dense_5\"])"
   ]
  },
  {
   "cell_type": "code",
   "execution_count": 31,
   "id": "4082174c-1c60-4f74-9a2b-0c5a535aa0c4",
   "metadata": {},
   "outputs": [
    {
     "name": "stderr",
     "output_type": "stream",
     "text": [
      "/home/metal/dev/misc/python/lib/python3.11/site-packages/keras/src/constraints.py:365: UserWarning: The `keras.constraints.serialize()` API should only be used for objects of type `keras.constraints.Constraint`. Found an instance of type <class 'qkeras.quantizers.ternary'>, which may lead to improper serialization.\n",
      "  warnings.warn(\n"
     ]
    }
   ],
   "source": [
    "model5.save(\"model5-ternary.keras\")"
   ]
  },
  {
   "cell_type": "code",
   "execution_count": 32,
   "id": "cd73fba7-8899-424c-88fb-8e20329211a1",
   "metadata": {},
   "outputs": [
    {
     "name": "stdout",
     "output_type": "stream",
     "text": [
      "INFO:tensorflow:Assets written to: ternary_saved/assets\n"
     ]
    },
    {
     "name": "stderr",
     "output_type": "stream",
     "text": [
      "INFO:tensorflow:Assets written to: ternary_saved/assets\n",
      "/home/metal/dev/misc/python/lib/python3.11/site-packages/keras/src/constraints.py:365: UserWarning: The `keras.constraints.serialize()` API should only be used for objects of type `keras.constraints.Constraint`. Found an instance of type <class 'qkeras.quantizers.ternary'>, which may lead to improper serialization.\n",
      "  warnings.warn(\n"
     ]
    }
   ],
   "source": [
    "tf.keras.models.save_model(model5, \"ternary_saved\")"
   ]
  },
  {
   "cell_type": "code",
   "execution_count": 33,
   "id": "24e6e02c-942c-4fc5-a576-2ab2df060cc5",
   "metadata": {},
   "outputs": [
    {
     "name": "stderr",
     "output_type": "stream",
     "text": [
      "/home/metal/dev/misc/python/lib/python3.11/site-packages/keras/src/constraints.py:365: UserWarning: The `keras.constraints.serialize()` API should only be used for objects of type `keras.constraints.Constraint`. Found an instance of type <class 'qkeras.quantizers.ternary'>, which may lead to improper serialization.\n",
      "  warnings.warn(\n"
     ]
    }
   ],
   "source": [
    "json_config = model5.to_json()"
   ]
  },
  {
   "cell_type": "code",
   "execution_count": 34,
   "id": "a2817cee-c398-475d-892a-416bbd5b4c7b",
   "metadata": {},
   "outputs": [
    {
     "data": {
      "text/plain": [
       "'{\"class_name\": \"Sequential\", \"config\": {\"name\": \"sequential_6\", \"layers\": [{\"module\": \"keras.layers\", \"class_name\": \"InputLayer\", \"config\": {\"batch_input_shape\": [null, 28, 28, 1], \"dtype\": \"float32\", \"sparse\": false, \"ragged\": false, \"name\": \"input\"}, \"registered_name\": null}, {\"module\": \"qkeras.qconvolutional\", \"class_name\": \"QConv2D\", \"config\": {\"name\": \"q_conv2d_14\", \"trainable\": true, \"dtype\": \"float32\", \"batch_input_shape\": [null, 28, 28, 1], \"filters\": 16, \"kernel_size\": [3, 3], \"strides\": [1, 1], \"padding\": \"valid\", \"data_format\": \"channels_last\", \"dilation_rate\": [1, 1], \"groups\": 1, \"activation\": \"linear\", \"use_bias\": true, \"kernel_initializer\": {\"module\": \"keras.initializers\", \"class_name\": \"HeNormal\", \"config\": {\"seed\": null}, \"registered_name\": null}, \"bias_initializer\": {\"module\": \"keras.initializers\", \"class_name\": \"Zeros\", \"config\": {}, \"registered_name\": null}, \"kernel_regularizer\": null, \"bias_regularizer\": null, \"activity_regularizer\": null, \"kernel_constraint\": {\"module\": \"qkeras.qlayers\", \"class_name\": \"Clip\", \"config\": {\"min_value\": -1, \"max_value\": 1}, \"registered_name\": \"Clip\"}, \"bias_constraint\": null, \"kernel_quantizer\": {\"module\": \"qkeras.quantizers\", \"class_name\": \"ternary\", \"config\": {\"alpha\": \"auto\", \"threshold\": null, \"use_stochastic_rounding\": true, \"number_of_unrolls\": 5}, \"registered_name\": \"ternary\"}, \"bias_quantizer\": null, \"kernel_range\": null, \"bias_range\": null}, \"registered_name\": \"QConv2D\", \"build_config\": {\"input_shape\": [null, 28, 28, 1]}}, {\"module\": \"qkeras.qlayers\", \"class_name\": \"QActivation\", \"config\": {\"name\": \"q_activation_14\", \"trainable\": true, \"dtype\": \"float32\", \"activation\": \"quantized_relu(2,0)\"}, \"registered_name\": \"QActivation\", \"build_config\": {\"input_shape\": [null, 26, 26, 16]}}, {\"module\": \"qkeras.qconvolutional\", \"class_name\": \"QConv2D\", \"config\": {\"name\": \"q_conv2d_15\", \"trainable\": true, \"dtype\": \"float32\", \"batch_input_shape\": [null, 28, 28, 1], \"filters\": 16, \"kernel_size\": [3, 3], \"strides\": [1, 1], \"padding\": \"valid\", \"data_format\": \"channels_last\", \"dilation_rate\": [1, 1], \"groups\": 1, \"activation\": \"linear\", \"use_bias\": true, \"kernel_initializer\": {\"module\": \"keras.initializers\", \"class_name\": \"HeNormal\", \"config\": {\"seed\": null}, \"registered_name\": null}, \"bias_initializer\": {\"module\": \"keras.initializers\", \"class_name\": \"Zeros\", \"config\": {}, \"registered_name\": null}, \"kernel_regularizer\": null, \"bias_regularizer\": null, \"activity_regularizer\": null, \"kernel_constraint\": {\"module\": \"qkeras.qlayers\", \"class_name\": \"Clip\", \"config\": {\"min_value\": -1, \"max_value\": 1}, \"registered_name\": \"Clip\"}, \"bias_constraint\": null, \"kernel_quantizer\": {\"module\": \"qkeras.quantizers\", \"class_name\": \"ternary\", \"config\": {\"alpha\": \"auto\", \"threshold\": null, \"use_stochastic_rounding\": true, \"number_of_unrolls\": 5}, \"registered_name\": \"ternary\"}, \"bias_quantizer\": null, \"kernel_range\": null, \"bias_range\": null}, \"registered_name\": \"QConv2D\", \"build_config\": {\"input_shape\": [null, 26, 26, 16]}}, {\"module\": \"qkeras.qlayers\", \"class_name\": \"QActivation\", \"config\": {\"name\": \"q_activation_15\", \"trainable\": true, \"dtype\": \"float32\", \"activation\": \"quantized_relu(2,0)\"}, \"registered_name\": \"QActivation\", \"build_config\": {\"input_shape\": [null, 24, 24, 16]}}, {\"module\": \"keras.layers\", \"class_name\": \"MaxPooling2D\", \"config\": {\"name\": \"max_pooling2d_8\", \"trainable\": true, \"dtype\": \"float32\", \"pool_size\": [2, 2], \"padding\": \"valid\", \"strides\": [2, 2], \"data_format\": \"channels_last\"}, \"registered_name\": null, \"build_config\": {\"input_shape\": [null, 24, 24, 16]}}, {\"module\": \"keras.layers\", \"class_name\": \"Flatten\", \"config\": {\"name\": \"flatten_8\", \"trainable\": true, \"dtype\": \"float32\", \"data_format\": \"channels_last\"}, \"registered_name\": null, \"build_config\": {\"input_shape\": [null, 12, 12, 16]}}, {\"module\": \"qkeras.qlayers\", \"class_name\": \"QDense\", \"config\": {\"name\": \"q_dense_5\", \"trainable\": true, \"dtype\": \"float32\", \"units\": 10, \"activation\": \"linear\", \"use_bias\": true, \"kernel_initializer\": {\"module\": \"keras.initializers\", \"class_name\": \"HeNormal\", \"config\": {\"seed\": null}, \"registered_name\": null}, \"bias_initializer\": {\"module\": \"keras.initializers\", \"class_name\": \"Zeros\", \"config\": {}, \"registered_name\": null}, \"kernel_regularizer\": null, \"bias_regularizer\": null, \"activity_regularizer\": null, \"kernel_constraint\": {\"module\": \"qkeras.qlayers\", \"class_name\": \"Clip\", \"config\": {\"min_value\": -1, \"max_value\": 1}, \"registered_name\": \"Clip\"}, \"bias_constraint\": {\"module\": \"qkeras.qlayers\", \"class_name\": \"Clip\", \"config\": {\"min_value\": -1, \"max_value\": 1}, \"registered_name\": \"Clip\"}, \"kernel_quantizer\": {\"module\": \"qkeras.quantizers\", \"class_name\": \"ternary\", \"config\": {\"alpha\": \"auto\", \"threshold\": null, \"use_stochastic_rounding\": true, \"number_of_unrolls\": 5}, \"registered_name\": \"ternary\"}, \"bias_quantizer\": {\"module\": \"qkeras.quantizers\", \"class_name\": \"ternary\", \"config\": {\"alpha\": \"auto\", \"threshold\": null, \"use_stochastic_rounding\": true, \"number_of_unrolls\": 5}, \"registered_name\": \"ternary\"}, \"kernel_range\": null, \"bias_range\": null}, \"registered_name\": \"QDense\", \"build_config\": {\"input_shape\": [null, 2304]}}]}, \"keras_version\": \"2.15.0\", \"backend\": \"tensorflow\"}'"
      ]
     },
     "execution_count": 34,
     "metadata": {},
     "output_type": "execute_result"
    }
   ],
   "source": [
    "json_config"
   ]
  },
  {
   "cell_type": "code",
   "execution_count": 37,
   "id": "20f32c39-4f25-44a8-a846-a85d106ba5c3",
   "metadata": {},
   "outputs": [],
   "source": [
    "cc = model5.get_layer('q_conv2d_14')"
   ]
  },
  {
   "cell_type": "code",
   "execution_count": 46,
   "id": "ceeb84bb-3d29-4d76-a6fd-fdf33f6087e3",
   "metadata": {},
   "outputs": [
    {
     "ename": "AttributeError",
     "evalue": "module 'tensorflow' has no attribute 'session'",
     "output_type": "error",
     "traceback": [
      "\u001b[0;31m---------------------------------------------------------------------------\u001b[0m",
      "\u001b[0;31mAttributeError\u001b[0m                            Traceback (most recent call last)",
      "Cell \u001b[0;32mIn[46], line 1\u001b[0m\n\u001b[0;32m----> 1\u001b[0m \u001b[38;5;28;01mwith\u001b[39;00m \u001b[43mtf\u001b[49m\u001b[38;5;241;43m.\u001b[39;49m\u001b[43msession\u001b[49m() \u001b[38;5;28;01mas\u001b[39;00m sess:\n\u001b[1;32m      2\u001b[0m     cc\u001b[38;5;241m.\u001b[39mkernel_quantizer\u001b[38;5;241m.\u001b[39mscale\u001b[38;5;241m.\u001b[39meval(sess)\n",
      "\u001b[0;31mAttributeError\u001b[0m: module 'tensorflow' has no attribute 'session'"
     ]
    }
   ],
   "source": [
    "with tf.session() as sess:\n",
    "    cc.kernel_quantizer.scale.eval(sess)"
   ]
  },
  {
   "cell_type": "code",
   "execution_count": null,
   "id": "79aeb716-5885-43fc-b18e-75319f833279",
   "metadata": {},
   "outputs": [],
   "source": []
  }
 ],
 "metadata": {
  "kernelspec": {
   "display_name": "Python 3 (ipykernel)",
   "language": "python",
   "name": "python3"
  },
  "language_info": {
   "codemirror_mode": {
    "name": "ipython",
    "version": 3
   },
   "file_extension": ".py",
   "mimetype": "text/x-python",
   "name": "python",
   "nbconvert_exporter": "python",
   "pygments_lexer": "ipython3",
   "version": "3.11.8"
  }
 },
 "nbformat": 4,
 "nbformat_minor": 5
}
