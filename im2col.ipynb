{
 "cells": [
  {
   "cell_type": "code",
   "execution_count": null,
   "id": "c8ab7e8e-6ad7-4e93-992b-e3b6ee66d84f",
   "metadata": {},
   "outputs": [],
   "source": [
    "# This program implements a traditional 4-deep loop conv2d and a complementary\n",
    "# im2col based conv2d"
   ]
  },
  {
   "cell_type": "code",
   "execution_count": 40,
   "id": "f39d0983-32dd-40a7-b057-80494bbf1dcd",
   "metadata": {},
   "outputs": [
    {
     "name": "stderr",
     "output_type": "stream",
     "text": [
      "2023-08-14 17:23:10.578842: I tensorflow/tsl/cuda/cudart_stub.cc:28] Could not find cuda drivers on your machine, GPU will not be used.\n",
      "2023-08-14 17:23:10.605226: I tensorflow/tsl/cuda/cudart_stub.cc:28] Could not find cuda drivers on your machine, GPU will not be used.\n",
      "2023-08-14 17:23:10.605807: I tensorflow/core/platform/cpu_feature_guard.cc:182] This TensorFlow binary is optimized to use available CPU instructions in performance-critical operations.\n",
      "To enable the following instructions: AVX2 FMA, in other operations, rebuild TensorFlow with the appropriate compiler flags.\n",
      "2023-08-14 17:23:11.352415: W tensorflow/compiler/tf2tensorrt/utils/py_utils.cc:38] TF-TRT Warning: Could not find TensorRT\n"
     ]
    }
   ],
   "source": [
    "import numpy as np\n",
    "import tensorflow as tf\n",
    "import keras\n",
    "from math import ceil"
   ]
  },
  {
   "cell_type": "code",
   "execution_count": 161,
   "id": "cf7f6055-2e5a-4c92-8c3c-081fa5969a85",
   "metadata": {},
   "outputs": [],
   "source": [
    "class ctx:\n",
    "    def __init__(self, ifmap, kernels, stride=1, padding=0):\n",
    "        \"\"\" Args:\n",
    "                ifmap: input map\n",
    "                kernels: list of kernels each of size KH, KW\n",
    "            Returns:\n",
    "                ctx: object that collects N,C,IH,IW,KH,KW,Hout,Wout\n",
    "        \"\"\"\n",
    "        self.N, self.C, self.IH, self.IW = ifmap.shape\n",
    "        self.KH, self.KW = kernels[0].shape\n",
    "        self.S, self.P = (stride, padding)\n",
    "        self.KN = kernels.shape[0]\n",
    "        self.Hout = ceil((self.IW - self.KW)/stride) + 1\n",
    "        self.Wout = ceil((self.IH - self.KH)/stride) + 1"
   ]
  },
  {
   "cell_type": "code",
   "execution_count": 159,
   "id": "7154b8d4-1f72-4d43-af46-8dc1fae7ed9e",
   "metadata": {},
   "outputs": [],
   "source": [
    "def _conv2d(ctx, ifmap, kernel):\n",
    "    \"\"\" conv2d helper - conv ifmap[0,0,i,j] with kernel \"\"\"\n",
    "    out = np.zeros(ctx.Hout * ctx.Wout)\n",
    "    out_index = 0\n",
    "    for i in range(ctx.Hout):\n",
    "        for j in range(ctx.Wout):\n",
    "            for ii in range(ctx.KH):\n",
    "                for jj in range(ctx.KW):\n",
    "                     out[out_index] = out[out_index] + (ifmap[0,0,ii+i,jj+j] * kernel[ii, jj])                       \n",
    "            out_index = out_index + 1\n",
    "    return out.reshape(ctx.Hout, ctx.Wout)\n",
    "    \n",
    "def conv2d(ctx, ifmap, kernels):\n",
    "    out = np.empty((ctx.KN, ctx.Hout, ctx.Wout))\n",
    "    for i in range(ctx.KN):\n",
    "        out[i] = _conv2d(ctx, ifmap, kernels[i])\n",
    "    return out\n",
    "\n",
    "def get_im2col_indices(ctx):\n",
    "    # First figure out what the size of the output should be\n",
    "    N, C, H, W = (ctx.N, ctx.C, ctx.IH, ctx.IW)\n",
    "    field_height, field_width = (ctx.KH, ctx.KW)\n",
    "    stride, padding = (ctx.S, ctx.P)\n",
    "    out_height, out_width = (ctx.Hout, ctx.Wout)\n",
    "\n",
    "    i0 = np.repeat(np.arange(field_height), field_width)\n",
    "    i0 = np.tile(i0, C)\n",
    "    i1 = stride * np.repeat(np.arange(out_height), out_width)\n",
    "    j0 = np.tile(np.arange(field_width), field_height * C)\n",
    "    j1 = stride * np.tile(np.arange(out_width), out_height)\n",
    "    i = i0.reshape(-1, 1) + i1.reshape(1, -1)\n",
    "    j = j0.reshape(-1, 1) + j1.reshape(1, -1)\n",
    "\n",
    "    k = np.repeat(np.arange(C), field_height * field_width).reshape(-1, 1)\n",
    "\n",
    "    return (k, i, j)\n",
    "\n",
    "\n",
    "def im2col_indices(ctx, x):\n",
    "    \"\"\" An implementation of im2col based on some fancy indexing \"\"\"\n",
    "    # Zero-pad the input\n",
    "    field_height, field_width = (ctx.KH, ctx.KW)\n",
    "    p = ctx.P\n",
    "    x_padded = np.pad(x, ((0, 0), (0, 0), (p, p), (p, p)), mode='constant')\n",
    "\n",
    "    k, i, j = get_im2col_indices(ctx)\n",
    "    cols = x_padded[:, k, i, j]\n",
    "    C = ctx.C\n",
    "    cols = cols.transpose(1, 2, 0).reshape(field_height * field_width * C, -1)\n",
    "    return cols\n",
    "\n",
    "def conv2d_im2col(ctx, ifmap, kernels):\n",
    "    \"\"\" Only conv kernel[0] for now \"\"\"\n",
    "    out = np.empty((ctx.KN, ctx.Hout, ctx.Wout))\n",
    "    for i in range(ctx.KN):\n",
    "        out1 = kernels[i].flatten().reshape(1, ctx.KH * ctx.KW)\n",
    "        out2 = im2col_indices(ctx, ifmap)\n",
    "        out[i] = (out1 @ out2).reshape(ctx.Hout, ctx.Wout)\n",
    "    return out"
   ]
  },
  {
   "cell_type": "code",
   "execution_count": 160,
   "id": "2bbe6dba-0bc1-4d07-99e3-e22545c6d950",
   "metadata": {},
   "outputs": [
    {
     "name": "stdout",
     "output_type": "stream",
     "text": [
      "Conv2d without im2col: [[[36. 38.]\n",
      "  [39. 35.]]]\n",
      "Conv2d with im2col: [[[36. 38.]\n",
      "  [39. 35.]]]\n"
     ]
    }
   ],
   "source": [
    "vgg_image = np.random.random((1,3,224,224))\n",
    "\n",
    "ifm = np.array([[1,2,3,2],[2,3,2,1],[1,2,1,2],[2,1,3,2]]).reshape(1,1,4,4)\n",
    "kernels = np.array([[1,2,2],[1,2,3],[4,2,3]]).reshape(1,3,3)\n",
    "ctxo = ctx(ifm, kernels, stride=1, padding=0)\n",
    "print(f\"Conv2d without im2col: {conv2d(ctxo, ifm, kernels)}\")\n",
    "print(f\"Conv2d with im2col: {conv2d_im2col(ctxo, ifm, kernels)}\")"
   ]
  },
  {
   "cell_type": "code",
   "execution_count": 6,
   "id": "b4887350-52a2-48de-85c9-28bcd1590974",
   "metadata": {},
   "outputs": [
    {
     "name": "stdout",
     "output_type": "stream",
     "text": [
      "126\n",
      "177\n",
      "191\n",
      "142\n",
      "113\n",
      "188\n",
      "208\n",
      "0\n",
      "242\n",
      "198\n"
     ]
    }
   ],
   "source": [
    "import random\n",
    "bytearr = random.randbytes(10)\n",
    "for i in bytearr:\n",
    "    print(i)"
   ]
  },
  {
   "cell_type": "code",
   "execution_count": null,
   "id": "53cb2386-ac19-415a-8cb6-37824852434d",
   "metadata": {},
   "outputs": [],
   "source": []
  }
 ],
 "metadata": {
  "kernelspec": {
   "display_name": "Python 3 (ipykernel)",
   "language": "python",
   "name": "python3"
  },
  "language_info": {
   "codemirror_mode": {
    "name": "ipython",
    "version": 3
   },
   "file_extension": ".py",
   "mimetype": "text/x-python",
   "name": "python",
   "nbconvert_exporter": "python",
   "pygments_lexer": "ipython3",
   "version": "3.11.3"
  }
 },
 "nbformat": 4,
 "nbformat_minor": 5
}
