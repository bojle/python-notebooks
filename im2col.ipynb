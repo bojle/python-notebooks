{
 "cells": [
  {
   "cell_type": "code",
   "execution_count": null,
   "id": "c8ab7e8e-6ad7-4e93-992b-e3b6ee66d84f",
   "metadata": {},
   "outputs": [],
   "source": [
    "# This program implements a traditional 4-deep loop conv2d and a complementary\n",
    "# im2col based conv2d"
   ]
  },
  {
   "cell_type": "code",
   "execution_count": 1,
   "id": "f39d0983-32dd-40a7-b057-80494bbf1dcd",
   "metadata": {},
   "outputs": [
    {
     "name": "stderr",
     "output_type": "stream",
     "text": [
      "2023-10-13 11:09:28.075987: I tensorflow/core/platform/cpu_feature_guard.cc:182] This TensorFlow binary is optimized to use available CPU instructions in performance-critical operations.\n",
      "To enable the following instructions: FMA, in other operations, rebuild TensorFlow with the appropriate compiler flags.\n"
     ]
    }
   ],
   "source": [
    "import numpy as np\n",
    "import tensorflow as tf\n",
    "import keras\n",
    "from math import ceil"
   ]
  },
  {
   "cell_type": "code",
   "execution_count": 2,
   "id": "cf7f6055-2e5a-4c92-8c3c-081fa5969a85",
   "metadata": {},
   "outputs": [],
   "source": [
    "class ctx:\n",
    "    def __init__(self, ifmap, kernels, stride=1, padding=0):\n",
    "        \"\"\" Args:\n",
    "                ifmap: input map\n",
    "                kernels: list of kernels each of size KH, KW\n",
    "            Returns:\n",
    "                ctx: object that collects N,C,IH,IW,KH,KW,Hout,Wout\n",
    "        \"\"\"\n",
    "        self.N, self.C, self.IH, self.IW = ifmap.shape\n",
    "        self.KH, self.KW = kernels[0].shape\n",
    "        self.S, self.P = (stride, padding)\n",
    "        self.KN = kernels.shape[0]\n",
    "        self.Hout = ceil((self.IW - self.KW)/stride) + 1\n",
    "        self.Wout = ceil((self.IH - self.KH)/stride) + 1"
   ]
  },
  {
   "cell_type": "code",
   "execution_count": 3,
   "id": "7154b8d4-1f72-4d43-af46-8dc1fae7ed9e",
   "metadata": {},
   "outputs": [],
   "source": [
    "def _conv2d(ctx, ifmap, kernel):\n",
    "    \"\"\" conv2d helper - conv ifmap[0,0,i,j] with kernel \"\"\"\n",
    "    out = np.zeros(ctx.Hout * ctx.Wout)\n",
    "    out_index = 0\n",
    "    for i in range(ctx.Hout):\n",
    "        for j in range(ctx.Wout):\n",
    "            for ii in range(ctx.KH):\n",
    "                for jj in range(ctx.KW):\n",
    "                     out[out_index] = out[out_index] + (ifmap[0,0,ii+i,jj+j] * kernel[ii, jj])                       \n",
    "            out_index = out_index + 1\n",
    "    return out.reshape(ctx.Hout, ctx.Wout)\n",
    "    \n",
    "def conv2d(ctx, ifmap, kernels):\n",
    "    out = np.empty((ctx.KN, ctx.Hout, ctx.Wout))\n",
    "    for i in range(ctx.KN):\n",
    "        out[i] = _conv2d(ctx, ifmap, kernels[i])\n",
    "    return out\n",
    "\n",
    "def get_im2col_indices(ctx):\n",
    "    # First figure out what the size of the output should be\n",
    "    N, C, H, W = (ctx.N, ctx.C, ctx.IH, ctx.IW)\n",
    "    field_height, field_width = (ctx.KH, ctx.KW)\n",
    "    stride, padding = (ctx.S, ctx.P)\n",
    "    out_height, out_width = (ctx.Hout, ctx.Wout)\n",
    "\n",
    "    i0 = np.repeat(np.arange(field_height), field_width)\n",
    "    i0 = np.tile(i0, C)\n",
    "    i1 = stride * np.repeat(np.arange(out_height), out_width)\n",
    "    j0 = np.tile(np.arange(field_width), field_height * C)\n",
    "    j1 = stride * np.tile(np.arange(out_width), out_height)\n",
    "    i = i0.reshape(-1, 1) + i1.reshape(1, -1)\n",
    "    j = j0.reshape(-1, 1) + j1.reshape(1, -1)\n",
    "\n",
    "    k = np.repeat(np.arange(C), field_height * field_width).reshape(-1, 1)\n",
    "\n",
    "    return (k, i, j)\n",
    "\n",
    "\n",
    "def im2col_indices(ctx, x):\n",
    "    \"\"\" An implementation of im2col based on some fancy indexing \"\"\"\n",
    "    # Zero-pad the input\n",
    "    field_height, field_width = (ctx.KH, ctx.KW)\n",
    "    p = ctx.P\n",
    "    x_padded = np.pad(x, ((0, 0), (0, 0), (p, p), (p, p)), mode='constant')\n",
    "\n",
    "    k, i, j = get_im2col_indices(ctx)\n",
    "    cols = x_padded[:, k, i, j]\n",
    "    C = ctx.C\n",
    "    cols = cols.transpose(1, 2, 0).reshape(field_height * field_width * C, -1)\n",
    "    return cols\n",
    "\n",
    "def conv2d_im2col(ctx, ifmap, kernels):\n",
    "    \"\"\" Only conv kernel[0] for now \"\"\"\n",
    "    out = np.empty((ctx.KN, ctx.Hout, ctx.Wout))\n",
    "    for i in range(ctx.KN):\n",
    "        out1 = kernels[i].flatten().reshape(1, ctx.KH * ctx.KW)\n",
    "        out2 = im2col_indices(ctx, ifmap)\n",
    "        out[i] = (out1 @ out2).reshape(ctx.Hout, ctx.Wout)\n",
    "    return out"
   ]
  },
  {
   "cell_type": "code",
   "execution_count": 160,
   "id": "2bbe6dba-0bc1-4d07-99e3-e22545c6d950",
   "metadata": {},
   "outputs": [
    {
     "name": "stdout",
     "output_type": "stream",
     "text": [
      "Conv2d without im2col: [[[36. 38.]\n",
      "  [39. 35.]]]\n",
      "Conv2d with im2col: [[[36. 38.]\n",
      "  [39. 35.]]]\n"
     ]
    }
   ],
   "source": [
    "vgg_image = np.random.random((1,3,224,224))\n",
    "\n",
    "ifm = np.array([[1,2,3,2],[2,3,2,1],[1,2,1,2],[2,1,3,2]]).reshape(1,1,4,4)\n",
    "kernels = np.array([[1,2,2],[1,2,3],[4,2,3]]).reshape(1,3,3)\n",
    "ctxo = ctx(ifm, kernels, stride=1, padding=0)\n",
    "print(f\"Conv2d without im2col: {conv2d(ctxo, ifm, kernels)}\")\n",
    "print(f\"Conv2d with im2col: {conv2d_im2col(ctxo, ifm, kernels)}\")"
   ]
  },
  {
   "cell_type": "code",
   "execution_count": 17,
   "id": "b4887350-52a2-48de-85c9-28bcd1590974",
   "metadata": {},
   "outputs": [
    {
     "name": "stdout",
     "output_type": "stream",
     "text": [
      "[[[1 2 3]\n",
      "  [4 5 6]\n",
      "  [7 8 9]]]\n",
      "[[[10 11 12]\n",
      "  [13 14 15]\n",
      "  [16 17 18]]]\n",
      "[[[19 20 21]\n",
      "  [22 23 24]\n",
      "  [25 26 27]]]\n",
      "[ 474.  519.  564.  609.  744.  789.  834.  879. 1014. 1059. 1104. 1149.\n",
      " 1284. 1329. 1374. 1419.]\n",
      "[1122. 1248. 1374. 1500. 1878. 2004. 2130. 2256. 2634. 2760. 2886. 3012.\n",
      " 3390. 3516. 3642. 3768.]\n",
      "[1770. 1977. 2184. 2391. 3012. 3219. 3426. 3633. 4254. 4461. 4668. 4875.\n",
      " 5496. 5703. 5910. 6117.]\n"
     ]
    }
   ],
   "source": [
    "isz = 6\n",
    "ksz = 3\n",
    "ifm = np.arange(1,isz*isz+1).reshape(1,1,isz,isz)\n",
    "kernels = np.arange(1,ksz*ksz+1).reshape(1,ksz,ksz)\n",
    "k2 = np.arange(10,9+ksz*ksz+1).reshape(1,ksz,ksz)\n",
    "k3 = np.arange(19,18+ksz*ksz+1).reshape(1,ksz,ksz)\n",
    "print(kernels)\n",
    "print(k2)\n",
    "print(k3)\n",
    "ctxo = ctx(ifm, kernels, stride=1, padding=0)\n",
    "res = conv2d(ctxo, ifm, kernels)\n",
    "res2 = conv2d(ctxo, ifm, k2)\n",
    "res3 = conv2d(ctxo, ifm, k3)\n",
    "print(res.flatten())\n",
    "print(res2.flatten())\n",
    "print(res3.flatten())"
   ]
  },
  {
   "cell_type": "code",
   "execution_count": 7,
   "id": "53cb2386-ac19-415a-8cb6-37824852434d",
   "metadata": {},
   "outputs": [],
   "source": [
    "ifm = np.arange(0, 9).reshape(3,3)\n",
    "out = ifm @ ifm"
   ]
  }
 ],
 "metadata": {
  "kernelspec": {
   "display_name": "Python 3 (ipykernel)",
   "language": "python",
   "name": "python3"
  },
  "language_info": {
   "codemirror_mode": {
    "name": "ipython",
    "version": 3
   },
   "file_extension": ".py",
   "mimetype": "text/x-python",
   "name": "python",
   "nbconvert_exporter": "python",
   "pygments_lexer": "ipython3",
   "version": "3.11.5"
  }
 },
 "nbformat": 4,
 "nbformat_minor": 5
}
